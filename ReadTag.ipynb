{
 "cells": [
  {
   "cell_type": "code",
   "execution_count": 2,
   "metadata": {
    "collapsed": true
   },
   "outputs": [],
   "source": [
    "source = \"files/reut2-000.sgm\"\n",
    "with open(source) as f:\n",
    "    array = []\n",
    "    #input = f.readlines()\n",
    "    for line in f:\n",
    "        array.append(line)"
   ]
  },
  {
   "cell_type": "code",
   "execution_count": 3,
   "metadata": {},
   "outputs": [
    {
     "name": "stdout",
     "output_type": "stream",
     "text": [
      "1000\n",
      "['<PLACES><D>el-salvador</D><D>usa</D><D>uruguay</D></PLACES>\\n', '<PLACES><D>usa</D></PLACES>\\n', '<PLACES><D>usa</D></PLACES>\\n', '<PLACES><D>usa</D><D>brazil</D></PLACES>\\n', '<PLACES><D>usa</D></PLACES>\\n', '<PLACES><D>argentina</D></PLACES>\\n', '<PLACES><D>usa</D></PLACES>\\n', '<PLACES><D>usa</D></PLACES>\\n', '<PLACES><D>usa</D></PLACES>\\n', '<PLACES><D>usa</D></PLACES>\\n']\n"
     ]
    }
   ],
   "source": [
    "places = []\n",
    "for index in array:\n",
    "    if \"<PLACES>\" in index:\n",
    "        places.append(index)\n",
    "print(len(places))\n",
    "print(places[0:10])"
   ]
  },
  {
   "cell_type": "code",
   "execution_count": 19,
   "metadata": {},
   "outputs": [
    {
     "name": "stdout",
     "output_type": "stream",
     "text": [
      "['', 'PLACES', '', '', '', 'el-salvador', '/', '', '', '', '', 'usa', '/', '', '', '', '', 'uruguay', '/', '']\n",
      "11276\n",
      "7230\n",
      "['el-salvador', 'usa', 'uruguay', 'usa', 'usa', 'usa', 'brazil', 'usa', 'argentina', 'usa', 'usa', 'usa', 'usa', 'usa', 'usa', 'usa', 'usa', 'usa', 'usa', 'brazil', 'usa', 'usa', 'yemen-arab-republic', 'usa', 'usa', 'usa', 'usa', 'usa', 'usa', 'usa', 'usa', 'brazil', 'venezuela', 'usa', 'usa', 'usa', 'usa', 'usa', 'usa', 'usa', 'usa', 'usa', 'usa', 'usa', 'usa', 'canada', 'usa', 'uk', 'usa', 'iran']\n",
      "1046\n"
     ]
    }
   ],
   "source": [
    "new_places = []\n",
    "for place in places:\n",
    "    new_places.extend(tsplit(place, (\"<D>\")))\n",
    "\"\"\"    \n",
    "    while count > 0:\n",
    "        topic = topic.split(\"<D>\",1)[1]\n",
    "        \n",
    "        count -= 1\n",
    "    topic = topic.split(\"</D>\",1)[0]\n",
    "    tops.append(topic)\n",
    "\"\"\"\n",
    "    \n",
    "print(new_places[0:20])\n",
    "print(len(new_places))\n",
    "new_places = [x for x in new_places if x not in ('/', '\\n', 'PLACES', '/PLACES')]\n",
    "print(len(new_places))\n",
    "new_places = [x for x in new_places if x not in ('', '/', '\\n', 'PLACES', '/PLACES')]\n",
    "print(new_places[0:50])\n",
    "print(len(new_places))"
   ]
  },
  {
   "cell_type": "code",
   "execution_count": 20,
   "metadata": {},
   "outputs": [
    {
     "name": "stdout",
     "output_type": "stream",
     "text": [
      "75\n",
      "{'hong-kong', 'sri-lanka', 'usa', 'qatar', 'libya', 'spain', 'indonesia', 'bahrain', 'nepal', 'west-germany', 'liechtenstein', 'uruguay', 'new-zealand', 'poland', 'yemen-arab-republic', 'us-virgin-islands', 'argentina', 'ecuador', 'south-africa', 'bolivia', 'iran', 'colombia', 'venezuela', 'algeria', 'canada', 'iraq', 'uae', 'bhutan', 'austria', 'portugal', 'netherlands', 'lebanon', 'bangladesh', 'ussr', 'taiwan', 'france', 'thailand', 'zaire', 'philippines', 'turkey', 'el-salvador', 'honduras', 'oman', 'tanzania', 'ireland', 'japan', 'yemen-demo-republic', 'switzerland', 'sweden', 'india', 'syria', 'nigeria', 'pakistan', 'mexico', 'zimbabwe', 'zambia', 'greece', 'panama', 'congo', 'uk', 'singapore', 'australia', 'egypt', 'hungary', 'finland', 'guam', 'malaysia', 'kuwait', 'brazil', 'china', 'cuba', 'saudi-arabia', 'belgium', 'italy', 'south-korea'}\n"
     ]
    }
   ],
   "source": [
    "# count distinct\n",
    "print(len(set(new_places)))\n",
    "print(set(new_places))"
   ]
  },
  {
   "cell_type": "code",
   "execution_count": 4,
   "metadata": {},
   "outputs": [
    {
     "name": "stdout",
     "output_type": "stream",
     "text": [
      "['uruguay', 'usa', 'usa', 'brazil', 'usa', 'argentina', 'usa', 'usa', 'usa', 'usa']\n",
      "1000\n"
     ]
    }
   ],
   "source": [
    "# Extra: Finding distinct countries\n",
    "countries = []\n",
    "for place in places:\n",
    "    count = place.count(\"<D>\")\n",
    "    while count > 0:\n",
    "        place = place.split(\"<D>\",1)[1]\n",
    "        count -= 1\n",
    "    place = place.split(\"</D>\",1)[0]\n",
    "    countries.append(place)\n",
    "print(countries[0:10])\n",
    "print(len(countries))"
   ]
  },
  {
   "cell_type": "code",
   "execution_count": 5,
   "metadata": {},
   "outputs": [
    {
     "name": "stdout",
     "output_type": "stream",
     "text": [
      "62\n",
      "{'hong-kong', 'sri-lanka', 'usa', 'qatar', 'libya', 'spain', 'indonesia', 'bahrain', 'west-germany', 'uruguay', 'new-zealand', 'argentina', '<PLACES></PLACES>\\n', 'ecuador', 'south-africa', 'iran', 'colombia', 'venezuela', 'algeria', 'canada', 'iraq', 'uae', 'portugal', 'netherlands', 'lebanon', 'bangladesh', 'ussr', 'taiwan', 'france', 'thailand', 'turkey', 'philippines', 'zaire', 'honduras', 'tanzania', 'ireland', 'japan', 'mexico', 'switzerland', 'sweden', 'india', 'syria', 'nigeria', 'pakistan', 'zimbabwe', 'zambia', 'panama', 'congo', 'uk', 'singapore', 'australia', 'hungary', 'finland', 'guam', 'malaysia', 'kuwait', 'brazil', 'china', 'saudi-arabia', 'belgium', 'italy', 'south-korea'}\n"
     ]
    }
   ],
   "source": [
    "# count distinct\n",
    "print(len(set(countries)))\n",
    "print(set(countries))"
   ]
  },
  {
   "cell_type": "code",
   "execution_count": 16,
   "metadata": {},
   "outputs": [
    {
     "name": "stdout",
     "output_type": "stream",
     "text": [
      "150\n"
     ]
    }
   ],
   "source": [
    "count_blanks = 0\n",
    "for place in places:\n",
    "    if place == \"<PLACES></PLACES>\\n\":\n",
    "        count_blanks += 1\n",
    "print(count_blanks)     "
   ]
  },
  {
   "cell_type": "markdown",
   "metadata": {},
   "source": [
    "Now onto the topics"
   ]
  },
  {
   "cell_type": "code",
   "execution_count": 7,
   "metadata": {},
   "outputs": [
    {
     "name": "stdout",
     "output_type": "stream",
     "text": [
      "1000\n",
      "['<TOPICS><D>cocoa</D></TOPICS>\\n', '<TOPICS></TOPICS>\\n', '<TOPICS></TOPICS>\\n', '<TOPICS></TOPICS>\\n', '<TOPICS><D>grain</D><D>wheat</D><D>corn</D><D>barley</D><D>oat</D><D>sorghum</D></TOPICS>\\n', '<TOPICS><D>veg-oil</D><D>linseed</D><D>lin-oil</D><D>soy-oil</D><D>sun-oil</D><D>soybean</D><D>oilseed</D><D>corn</D><D>sunseed</D><D>grain</D><D>sorghum</D><D>wheat</D></TOPICS>\\n', '<TOPICS></TOPICS>\\n', '<TOPICS></TOPICS>\\n', '<TOPICS><D>earn</D></TOPICS>\\n', '<TOPICS><D>acq</D></TOPICS>\\n']\n"
     ]
    }
   ],
   "source": [
    "topics = []\n",
    "for index in array:\n",
    "    if \"<TOPICS>\" in index:\n",
    "        topics.append(index)\n",
    "print(len(topics))\n",
    "print(topics[0:10])"
   ]
  },
  {
   "cell_type": "code",
   "execution_count": 8,
   "metadata": {
    "collapsed": true
   },
   "outputs": [],
   "source": [
    "# FROM: https://gist.github.com/kennethreitz/878652\n",
    "def tsplit(string, delimiters):\n",
    "    \"\"\"Behaves str.split but supports multiple delimiters.\"\"\"\n",
    "    \n",
    "    delimiters = tuple(delimiters)\n",
    "    stack = [string,]\n",
    "    \n",
    "    for delimiter in delimiters:\n",
    "        for i, substring in enumerate(stack):\n",
    "            substack = substring.split(delimiter)\n",
    "            stack.pop(i)\n",
    "            for j, _substring in enumerate(substack):\n",
    "                stack.insert(i+j, _substring)\n",
    "            \n",
    "    return stack"
   ]
  },
  {
   "cell_type": "code",
   "execution_count": 14,
   "metadata": {},
   "outputs": [
    {
     "name": "stdout",
     "output_type": "stream",
     "text": [
      "['', 'TOPICS', '', '', '', 'cocoa', '/', '', '', '/TOPICS', '\\n', '', 'TOPICS', '', '/TOPICS', '\\n', '', 'TOPICS', '', '/TOPICS']\n",
      "9020\n",
      "5350\n",
      "0\n",
      "['cocoa', 'grain', 'wheat', 'corn', 'barley', 'oat', 'sorghum', 'veg-oil', 'linseed', 'lin-oil', 'soy-oil', 'sun-oil', 'soybean', 'oilseed', 'corn', 'sunseed', 'grain', 'sorghum', 'wheat', 'earn', 'acq', 'earn', 'earn', 'acq', 'earn', 'earn', 'earn', 'wheat', 'grain', 'copper', 'earn', 'earn', 'earn', 'housing', 'money-supply', 'earn', 'earn', 'earn', 'earn', 'earn', 'coffee', 'acq', 'ship', 'acq', 'sugar', 'trade', 'reserves', 'ship', 'earn', 'earn']\n",
      "670\n"
     ]
    }
   ],
   "source": [
    "tops = []\n",
    "for topic in topics:\n",
    "    count = topic.count(\"<D>\")\n",
    "    tops.extend(tsplit(topic, (\"<D>\")))\n",
    "\"\"\"    \n",
    "    while count > 0:\n",
    "        topic = topic.split(\"<D>\",1)[1]\n",
    "        \n",
    "        count -= 1\n",
    "    topic = topic.split(\"</D>\",1)[0]\n",
    "    tops.append(topic)\n",
    "\"\"\"\n",
    "    \n",
    "print(tops[0:20])\n",
    "print(len(tops))\n",
    "tops = [x for x in tops if x not in ('/', '\\n', 'TOPICS', '/TOPICS')]\n",
    "print(len(tops))\n",
    "tops = [x for x in tops if x not in ('', '/', '\\n', 'TOPICS', '/TOPICS')]\n",
    "print(tops[0:50])\n",
    "print(len(tops))"
   ]
  },
  {
   "cell_type": "code",
   "execution_count": 12,
   "metadata": {
    "scrolled": true
   },
   "outputs": [
    {
     "name": "stdout",
     "output_type": "stream",
     "text": [
      "73\n",
      "{'crude', 'barley', 'sorghum', 'earn', 'soybean', 'acq', 'sugar', 'cpi', 'tea', 'lei', 'rapeseed', 'citruspulp', 'rice', 'platinum', 'meal-feed', 'groundnut-oil', 'livestock', 'ship', 'coffee', 'linseed', 'red-bean', 'dlr', 'propane', 'tapioca', 'cornglutenfeed', 'gold', 'lin-oil', 'reserves', 'palm-oil', 'hog', 'housing', 'cocoa', 'saudriyal', 'iron-steel', 'wool', 'rape-meal', 'sunseed', 'rape-oil', 'money-supply', 'money-fx', 'interest', 'l-cattle', 'alum', 'heat', 'cotton', 'rubber', 'silver', 'copper', 'rye', 'copra-cake', 'veg-oil', 'strategic-metal', 'nat-gas', 'plywood', 'retail', 'sun-oil', 'soy-oil', 'oat', 'trade', 'palmkernel', 'corn', 'oilseed', 'tin', 'gnp', 'ipi', 'wheat', 'soy-meal', 'jobs', 'bop', 'gas', 'yen', 'grain', 'carcass'}\n"
     ]
    }
   ],
   "source": [
    "# count distinct\n",
    "print(len(set(tops)))\n",
    "print(set(tops))"
   ]
  },
  {
   "cell_type": "code",
   "execution_count": 15,
   "metadata": {},
   "outputs": [
    {
     "name": "stdout",
     "output_type": "stream",
     "text": [
      "488\n"
     ]
    }
   ],
   "source": [
    "count_blanks = 0\n",
    "for topic in topics:\n",
    "    if topic == \"<TOPICS></TOPICS>\\n\":\n",
    "        count_blanks += 1\n",
    "print(count_blanks)     "
   ]
  },
  {
   "cell_type": "code",
   "execution_count": 27,
   "metadata": {},
   "outputs": [
    {
     "name": "stdout",
     "output_type": "stream",
     "text": [
      "[[ 0.  0.  1. ...,  1.  1.  1.]\n",
      " [ 0.  1.  0. ...,  0.  0.  0.]]\n"
     ]
    }
   ],
   "source": [
    "# counting tries\n",
    "# scikitlearn multinomial\n",
    "import numpy as np\n",
    "from sklearn.feature_extraction import DictVectorizer\n",
    "\n",
    "data = [{'': 0, 'program,': 1, 'unit': 1, 'into\\n': 1, 'positions\\n': 1, 'restrict': 1, 'USDA': 1, 'flow': 1, 'Florida,': 1, '&lt;Metropolitan': 1, 'firm.': 1, 'basis.\\n': 1, 'setback\\n': 1, 'world.\\n': 1, 'priced': 1, 'John': 1, '\"You': 1, 'Germany,\\n': 1, 'distribution': 1, 'PROFIT': 1, 'Unocal': 1, 'complications,': 1, 'Handel': 1, 'adjusted\\n': 1, 'Mthly': 1, 'attitude': 1, 'polls': 1, '&lt;PAC>': 1, 'Administration': 1, 'five-day': 1, 'suspension': 1, 'Group': 1, 'Final': 1, 'asset-backed': 1, 'Billington\\n': 1, 'conference,': 1, 'AMAX': 1, 'committee.\\n': 1, 'third-quarter': 1, 'one.\\n': 1, 'inventories': 1, 'front-running': 1, 'Decontrol': 1, '&lt;Sterling': 1, 'predecessor\\n': 1, 'pct,\"': 1, 'spoke\\n': 1, 'completion': 1, \"Exxon's\": 1, 'extended': 1, 'AMC': 1, 'Telcom': 1, 'stock.\\n': 1, 'According': 1, 'top': 1, 'transaction\\n': 1, 'around.': 1, 'jet': 1, 'slackens,\"': 1, 'mail,\"': 1, 'Evans': 1, 'drug': 1, 'heap': 1, 'Tex.\\n': 1, 'Ashton-Tate': 1, 'Donald\\n': 1, 'franchises': 1, 'black\\n': 1, 'pit,': 1, '&lt;Computerland': 1, 'writer': 1, 'base\\n': 1, \"shareholders'\": 1, 'merit-raises': 1, 'chain': 1, 'quotas,': 1, 'offerings': 1, 'Temple\\n': 1, 'Montreal>,': 1, 'role': 1, 'versatile,': 1, 'Volcker.\\n': 1, 'alleged': 1, 'cannot': 1, 'owns,': 1, 'consent': 1, 'annual': 1, 'workstation': 1, 'Yates': 1, 'America,': 1, 'begin': 1, 'Americus': 1, 'concepts': 1, '&lt;Real': 1, 'rumours': 1, 'industry.\\n': 1, 'wanted': 1, 'Iran/Contra': 1, 'Boren': 1, 'followed': 1, 'assistants,\\n': 1, 'substantial': 1, 'battle': 1, '\"I': 1, 'election': 1, 'overturned': 1, 'aggressively.': 1, 'minicomputer': 1, 'staff\\n': 1, 'place.': 1, 'informally.\\n': 1, 'regional\\n': 1, 'reached': 1, 'Porex': 1, 'undisclosed\\n': 1, 'plastic\\n': 1, 'Cadillac': 1, 'recommend': 1, 'bit': 1, 'cubic': 1, 'promising': 1, 'foreign': 1, 'manufactured': 1, 'ended': 1, 'limited': 1, 'side.': 1, 'weeks': 1, 'Pitney': 1, 'creditor': 1, 'Commission': 1, 'MADAGASCAR': 1, 'manufacturing\\n': 1, 'medical': 1, 'Besides': 1, 'establishment': 1, '\"front-running\",': 1, 'reactions': 1, 'predict': 1, 'demonstration': 1, 'struck': 1, 'made\\n': 1, 'daily)....': 1, 'terminals.\\n': 1, 'primarily': 1, 'lenders': 1, 'arrangement,': 1, 'inch': 1, 'spent': 1, 'saw': 1, 'profitably': 1, 'Minstar,': 1, 'Ratings': 1, 'consent.': 1, 'April.\\n': 1, 'NPPC': 1, 'few': 1, 'Carter,': 1, 'succeeding': 1, 'Md.,': 1, '\"My': 1, 'grade': 1, 'November\\n': 1, 'retain': 1, 'shearson,': 1, 'Portland,': 1, 'PANAMA': 1, 'April': 2, 'Buyers': 1, 'master\\n': 1, 'certification': 1, 'using': 1, 'efforts.\\n': 1, 'fill': 1, 'valued.\\n': 1, 'Cwt)': 1, 'per': 1, 'level': 1, '\"OPEC\\'s': 1, 'alone.\"\\n': 1, 'engineering': 1, 'customers\"': 1, 'Diamond': 1, 'quarter.\\n': 1, 'Niehaus': 1, 'became': 1, 'Conference': 1, 'Peladeau': 1, 'tobacco': 1, 'defects,': 1, 'Jenrette,': 1, 'finished': 1, 'summer.\\n': 1, 'dry': 1, 'amendment': 1, 'executive,': 1, 'CBT,': 1, 'software': 1, 'Wis.': 1, 'not': 1, \"Wednesday's\\n\": 1, 'prominent': 1, 'Toledo': 1, 'for': 2, 'Reform': 1, 'cautioned': 1, 'tonne': 1, 'Portland': 2, 'money': 1, 'quarter,': 1, 'chances': 1, 'Sum': 1, 'two-week': 1, 'Daniel': 1, 'stressed': 1, 'NCNB': 1, 'operation.': 1, 'segment,': 1, 'infuse': 1, 'Enhanced': 1, 'Square': 1, 'power,': 1, 'profitability,': 1, 'Active': 1, 'its': 1, 'elite\\n': 1, 'restaurants.\\n': 1, 'leading\\n': 1, '&lt;Massachusetts': 1, 'copper': 1, 'ton.': 1, 'slot': 1, 'design,': 1, 'nomination.\\n': 1, 'ending': 1, 'trading.\"\\n': 1, 'premium': 1, 'building': 1, 'credit.\\n': 1, 'subsidiary\\n': 1, 'such\\n': 1, 'shake-up': 1, 'above\\n': 1, 'spoke': 2, 'change\\n': 1, 'specifications': 1, 'scandal,': 1, 'clearly': 1, 'models,': 1, '\"It\\'s': 1, 'secret': 1, 'consultant': 1, 'stock': 2, 'tables': 1, 'bottom': 1, 'deduction': 1, 'Report': 1, 'Andewelt,': 1, 'application': 1, 'twenty': 1, 'newsprint\\n': 1, 'researchers,': 1, 'convert\\n': 1, 'thereafter': 1, \"state's\": 1, 'ESOPs.\\n': 1, 'temporary\\n': 1, 'Shaer': 1, 'administration\"s': 1, 'secondary': 1, 'blunders\"': 1, 'Savings': 1, 'congress,': 1, 'Sen\\n': 1, 'bodies,': 1, 'board.\\n': 1, 'disclosed.\\n': 1, 'remainder.\\n': 1, 'plaintiffs.': 1, 'Lydon\\n': 1, 'wall': 1, 'Presidential': 1, \"body's\": 1, 'Angeles.\\n': 1, 'peripheral': 1, 'owned,': 1, 'Knickerbocker\\n': 1, 'surge': 1, 'proposals,': 1, 'is': 1, 'escrow': 1, 'agreed-upon': 1, 'later,': 1, 'Lo': 1, '(D-Tex)': 1, 'rule': 1, 'NASDAQ,': 1, 'failed': 1, 'AW': 1, 'Deliveries': 1, 'first\\n': 1, 'friendly': 1, 'Directors': 1, 'commands': 1, 'hours': 1, 'craft.': 1, 'clients.\\n': 1, 'microprocessor,': 1, 'amount.\\n': 1, 'Holders': 1, 'advertising\\n': 1, 'approval,': 1, 'Montagu': 1, '(FHLBB)': 1, 'reevaluate': 1, 'lump-sum': 1, 'zero\\n': 1, 'fractional': 1, 'Almys\\n': 1, 'within': 1, 'Penril': 1, 'NEVIS': 1, 'Institution': 1, 'yr\\n': 1, 'crush': 1, 'deliver\\n': 1, 'New': 1, 'A\\n': 1, 'planes.': 1, 'campaign': 1, 'Congress,\\n': 1, 'play': 1, 'Yield': 1, 'who': 1, 'BRLY': 1, 'Goodrich': 1, 'difference.\\n': 1, 'reasonable.\\n': 1, 'link\\n': 1, 'their': 1, 'freight': 1, 'voted': 1, 'Group.': 1, 'Medusa': 1, 'market,\"': 1, 'polarizations': 1, 'accept': 1, 'Ted': 1, 'done': 1, 'again\\'?\"\\n': 1, \"Pioneer's\": 1, 'world': 2, 'thirds': 1, \"we'll\": 1, 'dividend\\n': 1, 'issues': 1, 'qualified': 1, 'lessen': 1, 'past,\"': 1, 'credits': 1, 'two-door': 1, 'inverse-rate': 1, 'agents': 1, 'Level': 1, 'Customs': 1, 'primary': 1, 'spelled': 1, 'anyway.\\n': 1, 'JAMAICA': 1, 'Lisp': 1, 'J.': 1, 'December.': 1, 'Rohr': 1, 'near-record': 1, 'incentive': 1, 'adviser,\"': 1, 'sources,\\n': 1, 'seminar': 1, 'continuing': 1, 'charges\\n': 1, 'information': 1, 'controller': 1, 'knight': 1, 'concept': 2, 'Anthony\\n': 1, 'appearance': 1, 'any\\n': 1, 'possibility': 1, 'Minneosta': 1, 'hotel': 1, 'Houston.\\n': 1, 'Petite\\n': 1, 'surrendered': 1, 'despite': 1, 'injection.\\n': 1, 'Pan': 1, \"Resources'\": 1, 'Eckenfelder.\\n': 1, 'floating-rate\\n': 1, 'consist': 1, 'experienced': 1, 'pre-eminent': 1, 'consequences': 1, 'banks.\"': 1, 'evaluating': 1, 'subsidiaries': 1, 'Institute': 1, 'testimony': 1, 'prosecutor,': 1, 'hearing': 1, 'support': 1, 'NECO\\n': 1, '\"accepted': 1, 'where': 1, 'arbitrageur,': 1, 'Buick.\\n': 1, '&lt;DOW>': 1, 'past.\\n': 1, 'license': 1, 'troubles': 1, 'throughout': 1, 'largest\\n': 1, 'fail': 2, 'plan,\\n': 1, \"Union's\": 1, 'Collins,\\n': 1, 'bids,': 1, 'Clinton,': 1, 'Wheat': 1, 'Sealy.\\n': 1, 'estimate': 1, 'serve': 1, 'cookies,': 1, 'contracted.\\n': 1, 'resist': 1, 'those': 1, 'representatives': 1, 'relocate': 1, 'which,\\n': 1, 'Lynch,': 1, 'pre-split': 1, 'commodities\\n': 1, 'symbol,\\n': 1, 'two-for-one': 1, 'work': 2, 'computer-aided-design': 1, 'caused\\n': 1, 'Both': 1, 'men': 1, 'Pan\\n': 1, 'analysts\\n': 1, 'Commission,': 1, 'wholesale\\n': 1, 'Europe.\\n': 1, 'positive,': 1, 'COLOMBIA': 1, 'liability.': 1, 'bit\\n': 1, 'Mass.,-based': 1, 'multi-billon': 1, 'Air': 1, 'August': 1, 'Armco': 1, 'handle': 1, 'beyond\\n': 1, '&lt;AHP>,': 1, 'sharply': 1, 'pending': 1, 'Guard': 1, '(ahead': 1, 'chemical': 1, 'AVX': 1, 'Thomas': 1, 'upgraded': 1, 'Hutton,': 1, 'forecasters': 1, 'these\\n': 1, 'generated': 1, 'mortgage\\n': 1, 'undermined': 1, 'farms,': 1, 'estimates': 1, 'Dilson': 1, 'Snyder': 1, 'threatened': 1, 'Gulf,': 1, 'estimates\\n': 1, 'field': 1, \"they've\": 1, 'Winnemucca,': 1, 'short': 1, 'Sarasota,': 1, 'Sept.': 1, 'CPI-U': 1, 'proof': 1, 'customer': 2, 'fire\\n': 1, 'process': 1, 'McLean': 1, 'bill': 1, 'disapprove': 1, 'slipped': 1, '\"This': 1, 'update': 1, 'Pacific': 1, 'certain': 1, 'manufacturing.\\n': 1, 'interview,': 1, 'unsolicited': 1, 'start\\n': 1, 'MOZAMBIQUE': 1, 'criteria': 1, 'looking': 1, 'costs': 1, 'did': 1, 'steels': 1, 'suitor': 1, 'monitor.\\n': 1, '&lt;FNNI>': 1, 'printed': 1, 'impact.\\n': 1, 'Fares,': 1, 'Supermac,': 1, 'equipment,': 1, 'Thomas,': 1, '&lt;Metallurg': 1, 'master': 2, 'credit': 4, 'rules.\"\\n': 1, 'direct': 1, 'guild': 1, 'never': 1, 'parking': 1, 'disposals': 1, 'investigating': 1, 'keeping\\n': 1, 'exchanged': 1, 'Shinn,': 1, 'developing': 1, 'increases': 1, 'so-called': 1, '&lt;Stanwell': 1, 'existing': 1, 'AMI': 1, 'seem': 1, 'Waste\\n': 1, 'personal\\n': 1, 'refinanceing': 1, 'Wagoneer': 1, 'frequently': 1, 'News': 1, 'sweetened,': 1, 'Data\\n': 1, 'made.\\n': 1, 'they\\n': 1, 'Lion': 1, 'Middling,': 1, 'largely': 1, 'petition\\n': 1, 'machines,': 1, 'Gas\\n': 1, 'Pension': 1, 'call\\n': 1, 'actions\\n': 1, \"month's\": 1, 'Humanistic': 1, 'reformation': 1, 'retaining': 1, 'Sept': 2, 'cases': 1, 'billion.\\n': 1, 'Danville,': 1, 'Permanente': 1, 'Communications\\n': 1, 'dramatic\\n': 1, 'bid.\\n': 1, 'pointed': 1, 'Handler': 1, 'show,': 1, 'knowledge,': 1, 'needed': 1, 'contrast,': 1, \"year's\": 1, 'newly': 1, 'annual\\n': 1, 'widebodied': 1, 'Olin': 1, 'securities': 1, 'case-by-case': 1, 'development': 1, 'surpassing': 1, 'agency.\\n': 1, 'cities': 1, 'Larry': 1, 'shareholder\\n': 1, 'turn\\n': 1, 'technology.\\n': 1, 'Within': 1, 'benchmark': 1, 'Hutton.': 1, 'Homes': 1, 'someone': 1, 'farmer,': 1, 'table,': 1, 'proteins': 1, 'Sleeper\\n': 1, 'West\\n': 1, 'WPPSS': 1, 'reduces': 1, 'Fluor': 1, 'investigators': 1, 'concerning': 1, 'provision\\n': 1, 'Paris-based': 1, 'Qtly': 1, 'broad': 1, 'arrangements\\n': 1, '&lt;Seattle': 1, 'finance': 1, 'suggested': 1, 'Dan': 3, 'war.': 1, 'dispositions': 1, 'did\\n': 1, 'Hollywood': 1, 'seven': 1, 'coming': 1, 'BBB-plus': 1, 'source,': 1, 'turning': 1, 'effect\\n': 1, 'owns\\n': 1, 'statil,': 1, 'vermiculite': 1, 'LP>,': 1, 'Medical': 1, 'receivorship': 1, 'Commodities': 1, 'editors,': 1, 'ore': 1, 'units.': 1, 'brokers': 1, 'Wednesday.\\n': 1, 'prohibiting': 1, 'ejection': 1, 'capitalize': 1, 'ago.\\n': 1, 'staff': 2, 'impacted': 1, 'loans': 1, 'Seasons': 1, 'auditor': 1, 'publishes': 1, 'talking': 1, 'N.H.,': 1, 'income.\\n': 1, 'president': 1, 'IVORY': 1, 'fed': 1, 'acquitted': 1, 'developer': 1, 'executed': 1, 'Jonathan': 1, 'responsibilities': 1, 'divisions': 1, 'aircraft': 1, 'Prudential-Bache': 1, 'TLC\\n': 1, 'tried\\n': 1, 'SEEC': 1, 'takeover,': 1, 'rates': 1, 'memory,': 1, 'trained': 1, 'borrowers,': 1, 'dividend.\\n': 1, 'try': 1, '(WPPSS)': 1, 'Beesely,': 1, 'truck': 1, 'jobs,': 1, 'Mark': 1, 'quarter\\n': 1, 'Shanghai,': 1, '(reserve)': 1, 'yet': 1, \"O'Donnell,\": 1, 'governments.\\n': 1, 'These': 1, 'period.': 1, 'Rexnord': 1, 'co-sponsor': 1, 'There': 1, 'Weinberger,': 1, 'allegedly': 1, 'Rospatch\\n': 1, 'Brothers,': 1, 'Quebec\\n': 1, 'filing,': 1, 'dlrs.': 1, 'Falk': 1, 'stores\\n': 1, 'franchises.\\n': 1, 'behalf': 1, '(the': 1, 'addition': 1, 'Writers': 1, 'successful\\n': 1, 'System': 1, 'partnership\\n': 1, 'nothing': 1, 'agency': 2, 'fixed': 1, 'business.\\n': 1, 'participant': 1, 'Statistics': 1, 'satellite': 1, 'unitholders': 1, 'Copper': 1, 'teamed': 1, 'elimination': 1, 'resistant': 1, 'our': 1, 'view': 1, 'Howe': 1, 'Cruises': 1, 'demands': 1, 'inabiliuty': 1, 'sharp': 2, 'La.,': 1, 'lb': 1, 'pushed': 1, '&lt;CCB>': 1, 'reveal': 1, 'membership\\n': 1, 'Switzerland': 1, 'Donaldson\\n': 1, 'Reynolds': 1, 'wednesday': 1, 'Airbus,': 1, 'strategist': 1, 'features.\\n': 1, 'company,\"': 1, 'finalize': 1, 'County.\\n': 1, \"managers'\": 1, \"Heinl's\": 1, 'Center.\\n': 1, 'another': 1, 'Sculley,': 1, 'worth.': 1, 'Mail': 1, 'Indianapolis,': 1, 'air': 2, 'nearly\\n': 1, 'prison.': 1, '\"...That': 1, 'Intermediate': 1, 'Justice': 1, \"Rohr's\": 1, 'LNC': 1, 'prices.': 1, 'Corp.': 1, 'proposal.\\n': 1, 'Penn\\n': 1, 'Upcoming': 1, 'zestril,': 1, 'pursue': 1, 'Paul,': 1, 'Benefit': 1, 'tender.': 1, 'need.': 1, 'Wright': 1, 'traffic': 1, 'consolidation\\n': 1, 'Systems': 1, '\"significant\"': 1, 'needs.\\n': 1, 'introductions': 1, 'Sprinkel.\\n': 1, 'workstation,\"\\n': 1, 'mln': 1, 'May': 1, 'year\\n': 1, 'limited\\n': 1, 'survey': 1, \"staff's\": 1, 'Extraordinaries': 1, 'Reuters.\\n': 1, 'attempt,': 1, 'indebtedness.\\n': 1, 'Managed': 1, 'Mine': 1, 'overstated': 1, 'there.\"\\n': 1, 'Co.>\\n': 1, 'sald': 1, 'ensure': 1, 'qtr': 1, 'Hauppauge,': 1, 'Inc.': 1, 'meeting.\\n': 1, 'target\\n': 1, '\"The': 1, 'New\\n': 1, 'additional': 1, 'Kroner': 1, 'edge': 1, 'soybeans,': 1, 'wide-ranging': 1, 'wastes.\\n': 1, 'maintain': 1, 'reducing': 1, 'Productivity': 1, 'halt\\n': 1, 'Cars': 1, 'controllers': 1, 'arranged': 1, 'blender,': 1, 'goods,': 1, 'then.\\n': 1, \"Brown-Forman's\": 1, 'fined': 1, 'posted,': 1, 'puzzling.\\n': 1, 'features': 2, 'conviction\\n': 1, 'note': 1, 'Even': 1, 'build': 2, 'FIJI': 1, 'pct).\\n': 1, 'utility': 1, 'Airbus': 2, 'noting': 1, 'FDIC\\n': 1, 'recieved': 1, 'Sorghum': 1, 'strategist,': 1, 'Bendectin': 1, \"Equatorial's\": 1, 'equals': 1, 'beauty\\n': 1, \"directors'\": 1, 'eventually': 1, 'Nonresidential': 1, 'acute': 1, 'Senior\\n': 1, 'government)': 1, 'widely': 1, 'Benequity': 1, 'replacement,': 1, 'Lower': 1, 'nearby': 1, 'EST\\n': 1, 'city\\n': 1, 'ratio,': 1, 'Shearson\\n': 1, '(CIA),': 1, 'refinery': 1, 'easing': 1, 'legal\\n': 1, 'distribution\\n': 1, 'weeks,': 1, 'proposal,': 1, 'cents\\n': 1, 'Deposit': 1, 'capitalization,\"': 1, 'economy\\n': 1, 'are\\n': 1, 'nine-inch': 1, 'Kong': 1, 'bond': 1, \"I've\": 1, 'off': 2, 'Cambridge,\\n': 1, '\"He\\'d': 1, 'operation,': 1, 'Exxon': 2, 'lock': 1, 'arrested': 1, 'then': 2, 'yesterday.\\n': 1, 'lettering': 1, 'partial\\n': 1, 'planes\\n': 1, 'stock\\n': 1, 'postponement': 1, 'leases': 1, '&lt;FUNC>.\\n': 1, 'Hawthorne,': 1, 'deficit': 1, 'tons,': 1, 'embattled': 1, 'accepts': 1, 'NYMEX,': 1, 'certificates.\\n': 1, 'resulting': 1, 'associated': 1, 'module.\\n': 1, 'Pa.\\n': 1, 'letter': 2, 'overseas': 1, 'Belvieu,\\n': 1, 'mainstream': 1, 'feedgrain': 1, 'caught': 1, 'cash,': 1, 'built-in': 1, 'portfolio': 1, 'management.\"\\n': 1, 'LIBOR': 1, 'counterparts.\"\\n': 1, 'Bannon': 1, 'video': 1, '&lt;CCN>.\\n': 1, '&lt;Videoco\\n': 1, 'Approval': 1, 'held': 1, 'direction': 1, 'accepted': 1, 'feature': 3, 'bringing\\n': 1, 'told': 1, 'confidence': 1, 'later': 2, 'flexibly\\n': 1, \"utilties'investments\": 1, 'bondholders': 1, 'February,\\n': 1, 'LA': 1, 'produced': 1, 'structure': 1, 'plants': 1, 'Cousins': 1, 'filling': 1, 'approached': 1, 'Duncan': 1, 'schedule': 1, 'has': 1, 'Cronus': 1, 'mechanism': 1, 'move': 1, 'next\\n': 1, 'kinds': 1, 'lengthy': 1, 'Long': 1, 'white': 1, 'acquisition.\\n': 1, 'services': 1, 'Policy': 1, 'adhesive-backed': 1, 'R.P.': 1, 'Occidental': 1, 'boards,': 1, 'energy': 1, 'negotiators.\\n': 1, 'thus': 1, 'accounted\\n': 1, 'designed,': 1, 'sluggish': 1, 'Fundamental': 1, 'wheat.': 1, 'British': 1, 'street': 1, 'merge': 1, 'messages': 1, 'President\\n': 1, 'R/DHB': 1, 'micro': 2, 'rating': 1, 'agencies.\\n': 1, 'Siemens': 1, 'fund\\n': 1, 'lightweight,': 1, 'Reserve': 1, \"Occidental's\": 1, 'useful': 1, 'deemed': 1, 'workstation,': 2, 'Lichtenberger\\n': 1, 'hemophiliacs': 1, '\"Many': 1, \"firm's\\n\": 1, 'businesses.\\n': 1, 'Worldwide,': 1, 'absorbant': 1, 'fee': 2, 'out': 1, 'split': 1, 'restated': 1, 'heavily\\n': 1, '&lt;X>\\n': 1, 'Michigan.\\n': 1, 'only': 1, 'stop': 1, 'borrowing': 1, 'in-line': 1, 'beyond': 2, 'Associates': 1, 'involved': 1}\n",
    "        , {'': 0, 'Daimler': 1, 'stg\\n': 1, 'three,': 1, 'quantity\\n': 1, 'Quebec': 1, 'Nikko\\n': 1, 'flow': 1, 'eight-member': 1, 'manufactures': 1, 'priced': 1, 'Thursday': 1, 'but': 1, 'expected': 1, 'distribution': 1, 'demonstrated': 1, 'votes,': 1, 'shortage': 1, 'would': 1, 'repayments.\\n': 1, 'Commission.\\n': 1, 'morning,': 1, 'Colombian\\n': 1, 'beginning': 1, 'polls': 1, 'expansion,': 1, 'be': 2, 'hectic': 1, 'shares\\n': 1, 'Group': 1, 'Final': 1, 'seeing': 1, 'static': 1, 'marks': 1, 'happen,\"': 1, 'extend': 1, 'appears\\n': 1, 'continue': 1, 'programme': 1, 'workers': 1, 'Payment': 1, 'here': 1, 'Porsche': 1, 'completion': 1, 'stock.\\n': 1, '(United': 1, 'markets.\\n': 1, 'Continental': 1, 'anti-asthma': 1, 'severe.\\n': 1, 'of': 1, 'Fees': 1, 'Oilseed': 1, 'focussing': 1, 'Latin': 1, 'unit\\n': 1, 'quotas,': 1, 'London': 1, 'December,': 1, 'soon': 1, 'manager': 1, 'highs': 1, 'role': 1, 'Government': 1, 'Gasunie': 1, 'annual': 1, 'could': 1, 'stabler': 1, 'Earlier,': 1, 'January,\\n': 1, 'successfully': 1, 'products': 1, 'works': 1, 'Big': 1, 'tranche': 1, 'follows': 1, 'this\\n': 1, 'Welsh': 1, 'ability.': 1, 'debit': 1, 'may': 1, 'affect': 1, 'ultimately': 1, 'reintroducing\\n': 1, 'acquisition': 1, 'Accruals': 1, 'early': 1, 'have\\n': 1, 'find': 1, 'yen\\n': 1, 'take\\n': 1, 'foreign': 1, 'would\\n': 1, 'weeks': 1, 'reporting': 1, 'Markets\\n': 1, 'Last': 1, 'callable': 1, 'company.\\n': 1, 'market,': 1, 'taken': 1, 'doctors': 1, 'convertible': 1, 'opportunity': 1, 'maturing': 1, 'reactions': 1, 'Prime': 1, 'reduce': 1, 'saw': 1, 'February.\\n': 1, 'three': 2, 'represented': 1, 'signal': 1, 'Boeing': 1, 'Best': 1, '&lt;BP.L>,': 1, 'walked': 1, 'America': 1, 'locate': 1, 'April': 1, 'Green': 1, 'Trust': 1, 'per': 1, 'level': 1, '\"OPEC\\'s': 1, 'launched': 1, 'rebuild': 1, \"Bank's\": 1, 'Friday,\\n': 1, '&lt;Boeing': 1, 'patterns': 1, 'Foreign': 1, '&lt;WLUK.L>': 1, 'charges.': 1, 'Requirement': 1, 'Gold': 1, 'workers.\\n': 1, 'not': 1, 'all': 1, 'suspended': 1, 'Locales': 1, 'Conditions\\n': 1, 'for': 2, 'Exceptional': 1, 'Currency': 1, 'Golden': 1, 'tonne': 1, 'week.\\n': 1, 'money': 1, 'up': 1, 'method': 1, 'issued': 1, 'stressed': 1, '&lt;ARC': 1, 'term,': 1, 'Inc': 1, 'her': 2, 'its': 1, 'dlrs': 1, 'Exchequer': 1, 'rheumatoid': 1, 'statement': 1, 'among': 1, 'evergreen': 1, 'rise.\\n': 1, 'ending': 1, 'currency': 1, 'Scania': 1, 'premium': 1, 'Reuter\\n': 1, 'credit.\\n': 1, 'meet': 1, 'exhausted': 1, 'index-linked': 1, 'above\\n': 1, 'tendering': 1, 'Unit': 1, '\"It\\'s': 1, 'exceptional\\n': 1, 'downward': 1, 'future': 1, 'October.': 1, 'stock': 2, 'tap,': 1, 'year-on-year.\\n': 1, 'recommended': 1, 'ideas,': 1, 'Wales,': 1, 'Rosie': 1, 'asssets': 1, 'first': 1, 'reached\\n': 1, 'option.\\n': 1, 'secondary': 1, 'provide\\n': 1, 'higher': 1, 'board.\\n': 1, 'traders': 1, 'book': 1, 'data': 1, 'figures': 1, 'representing': 1, 'package.\\n': 1, 'pre-tax\\n': 1, 'Merrill,': 1, 'non-adjusted': 1, 'is': 2, 'priced\\n': 1, 'However,': 1, 'Morgan\\n': 1, 'plant,': 1, 'Nabumetone,': 1, 'M.P.': 1, 'failed': 1, 'producer\\n': 1, '&lt;International': 1, 'first\\n': 1, 'might': 1, 'supply,': 1, 'March': 1, 'Baden-Wuerttemberg,': 1, 'conversion\\n': 1, 'dealers\\n': 1, 'at\\n': 1, 'Liberal-Social\\n': 1, 'Investment': 1, 'February': 2, 'year,': 1, 'arms': 1, 'Association.&lt;ICGS.L>.\\n': 1, 'Montagu': 1, 'Colombia\\n': 1, 'election.\\n': 1, 'underlying': 1, 'capital.\\n': 1, 'contract': 1, 'equipment': 1, 'currency\\n': 1, 'Citicorp': 1, 'New': 1, 'mln,': 1, 'tone': 1, 'following': 1, 'play': 1, 'reasonable': 1, 'purchased': 1, 'who': 1, 'press\\n': 1, 'arrange': 1, 'assistance': 1, 'be\\n': 1, 'councils': 1, 'basis': 1, 'response': 1, 'months': 1, 'their': 1, 'SHV': 1, 'Corp>,': 1, 'bonds': 1, 'foreseeable\\n': 1, 'coffee\\n': 1, '&lt;Beecham': 1, 'ebullient': 1, 'stronghold': 1, 'month.\\n': 1, 'done': 1, 'tomorrow': 1, 'session\\n': 1, 'exploration': 1, 'world': 1, 'behind': 1, 'issues': 1, 'month': 3, 'stabilise': 1, 'date\\n': 1, 'Cargill': 1, 'eurobond': 1, 'working': 1, 'late': 1, 'predicted': 1, 'primary': 1, 'key': 1, 'hoc': 1, 'dealer': 2, 'then,': 1, 'continuing': 1, 'Pre-tax': 1, 'published': 1, 'expansion.\\n': 1, 'any\\n': 1, 'They': 1, 'Party': 1, 'Commerzbank': 1, 'anybody': 1, 'reassert': 1, 'mirrored': 1, 'morning\\n': 1, 'Cenergy\\n': 1, 'AG': 1, 'Collectives': 1, 'despite': 1, 'Estate': 1, 'Gas': 2, 'pharmaceutical': 1, 'capitalisation\\n': 1, 'Data': 1, 'ordinary': 1, 'major': 1, 'line': 1, 'mill': 1, 'support': 1, 'Components': 1, 'should': 1, 'loss\\n': 1, 'this': 2, 'relatively': 1, 'showed': 1, 'onto': 1, 'its\\n': 1, 'or': 2, 'option': 2, 'depreciating': 1, 'on,': 1, 'eased': 1, 'will\\n': 1, 'year': 3, 'he': 4, 'Delegates': 1, 'estimate': 1, 'dlrs.\\n': 1, 'system,': 1, 'those': 1, 'competing': 1, 'Overseas': 1, 'representatives': 1, \"authorities'\": 1, 'work': 5, 'Under': 1, 'development\\n': 1, '(Europe)': 1, 'total\\n': 1, 'look': 1, 'Early': 1, 'quietly': 1, 'having': 1, 'West': 1, 'administration': 1, 'arduous,': 1, 'was\\n': 1, 'poll\\n': 1, 'looked\\n': 1, 'grants,': 1, \"l'Equipement\": 1, 'gold': 1, 'Since': 1, 'respectively.': 1, 'officials': 1, \"can't\": 1, 'postponed': 1, 'rose': 1, 'modify': 1, '\"(Brazilian': 1, 'pct\\n': 1, 'Ultramar': 1, 'these': 1, 'tomorrow,': 1, 'time.\\n': 1, 'acquire': 1, 'though': 1, 'short': 2, 'evening,': 1, 'Ohio-based': 1, 'government\\n': 1, 'office': 1, 'debit\\n': 1, \"firm's\": 1, 'demand': 1, 'subsidiary,': 1, 'Canadian': 1, 'worrying': 1, 'heated': 1, 'growth\\n': 1, 'if': 1, 'perilously\\n': 1, 'underwriting\\n': 1, 'announcement': 1, 'proposal,\\n': 1, 'Europe>': 1, 'did': 1, 'adjusted': 1, 'next': 1, 'agreed,': 1, 'last': 1, 'gmt': 1, 'Underlying': 1, 'closure': 1, 'again': 1, 'Party,': 1, 'Ecus': 1, 'coupon': 1, 'address': 1, 'scheme': 1, 'credit': 2, 'tedious': 1, 'give': 1, 'Underwoods': 1, 'initially': 1, 'affair': 1, 'broker': 1, 'presenting': 1, 'proceeds\\n': 1, 'Arthaxan': 1, 'thereby': 1, 'existing': 1, 'Exercise': 1, 'intended': 1, 'European': 1, 'call': 2, 'force': 1, '&lt;FISN.L>': 1, 'Treasury': 1, 'protect': 1, 'they\\n': 1, 'marginally': 1, 'going': 1, 'share-out': 1, 'pct': 2, 'bankers': 1, 'during': 1, 'them\\n': 1, 'leader': 1, 'drought': 1, 'since': 1, 'former': 1, 'billion.\\n': 1, 'date': 2, 'close\\n': 1, 'unadjusted': 1, 'proportion\\n': 1, 'however,': 1, 'help': 1, 'years.\\n': 1, 'dealings': 1, 'positive': 1, 'presence': 1, 'strongly,': 1, 'Desjardins': 1, 'Within': 1, 'April\\n': 1, 'combination': 1, 'recent': 1, 'progress,': 1, 'sold': 1, 'price': 3, 'stake': 1, 'Scientific': 1, 'pressure': 1, 'were': 1, 'dollar.\\n': 1, 'Ltd>,': 1, 'Eagle\\n': 1, 'seven': 1, 'release': 1, 'export\\n': 1, 'borrowings': 1, 'sectors,': 1, 'Which\\n': 1, 'Chief': 1, 'Deirdre': 1, 'noon': 1, 'exercisable': 1, 'brokers': 1, 'Caisse': 1, 'ago.\\n': 1, 'no': 4, 'determining\\n': 1, 'voters,': 1, 'opportunity\\n': 1, 'deal.\\n': 1, 'options,': 1, 'Fisons': 1, 'change,': 1, 'forecast': 1, 'growth': 2, 'Lawson\\n': 1, 'net': 1, 'Petroleum': 1, 'share\\n': 1, 'rates': 1, 'revenue': 1, 'purchase': 2, 'stepped': 1, 'considered.\\n': 1, 'undersubscribed': 1, 'try': 1, 'nor': 1, 'Public': 1, 'period,\\n': 1, 'Organization,': 1, 'could\\n': 1, 'many': 1, 'Boston': 1, 'splinter': 1, 'introduced': 1, 'original': 1, 'five': 1, 'These': 1, 'There': 1, 'by\\n': 1, 'parliamentary': 1, 'does': 1, 'Iranian': 1, 'dlrs.': 2, 'decided': 1, 'it\\n': 1, 'Luxembourg.': 1, 'addition': 1, 'ago': 2, 'common': 1, 'pays': 1, 'fixed': 1, 'Carlton': 1, 'employ\\n': 1, 'five.': 1, 'noticeable\\n': 1, 'medicine': 1, 'facility': 1, 'Samuel': 1, 'capital': 3, 'will': 2, 'GMT': 1, 'expectations': 1, 'traded': 1, 'pushed': 1, '&lt;Cenergy': 1, 'spokesman,': 1, 'Stock': 1, 'liquidity,': 1, 'components': 1, 'eurosterling': 1, '(U.K.)': 1, 'scored': 1, 'earlier': 1, 'wishing': 1, 'suffer': 1, 'lows': 1, 'another': 1, 'equities': 1, 'prospects': 1, 'yen': 2, 'two': 1, 'before\\n': 1, 'weakness': 1, 'significant\\n': 1, 'ahead': 1, 'drain\\n': 1, 'Markets': 2, 'pledge': 1, 'fix': 2, 'provides': 1, 'joint-bookrunner': 1, 'measure': 1, 'curb': 1, 'non-seasonally': 1, 'mln': 2, 'year\\n': 1, 'borough': 1, 'Ltd>\\n': 1, 'Bryson': 1, 'refer': 1, 'loan': 1, 'completed,': 1, 'awaiting\\n': 1, 'provisional': 1, 'tonight': 1, 'Fiat': 1, 'already': 1, 'meeting.\\n': 1, 'activity': 1, '\"The': 1, 'bills': 1, 'Lynch': 1, 'Nasalcrom': 1, 'discussed': 1, 'current\\n': 1, 'impetus,': 1, 'recent\\n': 1, '&lt;Carlton': 1, 'Cons': 1, 'term': 2, '&lt;Air': 1, 'said\\n': 1, 'features': 1, 'Democrats': 1, 'outstanding': 1, 'a': 35, 'non-bank\\n': 1, 'between': 1, \"Chesebrough-Pond's\": 1, 'Its': 1, 'commercial': 1, 'note': 1, 'long-term': 1, 'loan\\n': 1, 'production\\n': 1, 'contact': 1, 'Agreement': 1, 'exercise': 1, 'convene': 1, 'conducted': 1, 'crisis\\n': 1, 'Bank\\n': 1, 'fee.\\n': 1, 'started\\n': 1, 'in': 5, '&lt;UMAR.L>': 1, 'eventually': 1, '-': 1, 'totalled': 1, \"England's\\n\": 1, 'pound\\n': 1, 'cut': 1, 'amounts': 1, 'outflow,': 1, 'trading': 1, 'Luxembourg.\\n': 1, 'AB': 1, 'minimum': 1, 'results\\n': 1, 'exchanges,': 1, 'producer': 2, 'poll': 3, 'dollar-denominated': 1, 'creating\\n': 1, 'proposal,': 2, 'floating': 1, 'dlr\\n': 1, 'SEAQ,': 1, 'take': 3, 'bond': 2, 'think\\n': 1, 'introduction': 1, 'than': 1, 'Sydney-based\\n': 1, 'then': 2, 'modest.\\n': 1, 'Communications': 1, 'third': 1, 'Ltd.\\n': 1, 'official': 2, 'considering': 1, 'pre-Lenten': 1, 'closed\\n': 1, 'continued': 1, 'combined': 1, 'letter': 1, 'trader': 2, 'Rolls-Royce\\n': 1, 'scheduled': 1, 'cash,': 1, 'bullion': 1, 'Sector': 1, 'ahead.\\n': 1, 'received': 1, 'silver': 1, 'an': 7, 'held': 1, 'feature': 2, 'told': 1, 'gas': 1, 'Suisse': 1, 'confidence': 1, 'Borrowing': 1, 'tender': 2, 'requests': 1, 'member': 1, 'Interests.\\n': 1, 'valuation\\n': 1, 'Nigel': 1, 'exceeds': 1, 'plants': 1, 'rollover': 1, 'approached': 1, 'total': 3, 'there': 2, 'has': 1, 'general': 1, 'market-makers': 1, 'Commercial': 1, 'maturing\\n': 1, 'making': 1, 'move': 1, 'abandoned.\\n': 1, 'placing': 1, 'Samuel\\n': 1, 'oil': 1, 'undertaking': 1, \"bankers'\": 1, 'planes': 1, 'Morgan': 2, 'mln.\\n': 1, 'British': 1, 'average\\n': 1, 'policy': 1, 'provided': 1, 'Capital': 1, '&lt;CGLD.L>': 1, 'joint-lead.\\n': 1, 'Marketing\\n': 1, 'suitable': 1, 'profit': 1, 'reaction': 2, 'market': 4, 'deal': 5, 'US': 1, 'small': 1, 'fee': 2, 'protest': 1, 'out': 3, 'split': 1, 'session.\\n': 1, 'Cooperation': 1, 'selling\\n': 1, 'only': 1, 'combined,': 1, 'borrowing': 2, 'undermine': 1, 'Investments': 1, 'core': 1, 'ICO': 1, 'band': 1, 'Conservatives': 1, 'Historical': 1, 'nearer': 1, 'guide': 1, 'billion': 2, 'same': 1, 'because': 1, 'full\\n': 1, '[PSHG.F],': 1, 'items.': 1, 'month.': 2, 'perform': 1, 'Observer': 1, 'two-point': 1, 'before,': 1, 'Successful': 1, 'Monopolies': 1, 'steadily,': 1, 'report.\\n': 1, 'at': 2, 'Bank': 3, 'recorded': 1, 'particularly': 1, 'export': 2, 'makes': 1, 'since\\n': 1, 'from\\n': 1, 'businesses': 1, 'payment': 1, 'intervention': 1, 'trading\\n': 1, 'say': 1, 'been\\n': 1, 'special': 1, 'quota': 2, 'rise': 2, 'MORI': 1, 'Baden-Wuerttemberg': 2, 'whether': 1, 'resume': 1, 'sterling': 1, 'Mitsubishi': 1, 'non-callable': 1, 'Corp': 2, 'holder': 1, 'and\\n': 1, 'often\\n': 1, 'council': 2, 'reported': 1, 'Relifex': 1, 'centrist': 1, 'reduction': 1, 'engines.\\n': 1, 'Tesco': 1, 'visit': 1, 'down': 2, 'shortfall\\n': 1, 'initial': 2, 'closing': 1, 'billion\\n': 1, \"Daimler's\\n\": 1, 'used\\n': 1, 'which\\n': 1, 'specialist': 1, 'trend,': 1, 'underwriting': 2, 'dollar': 3, '&lt;Underwoods': 1, 'bid': 1, 'by-election': 1, 'buoyant': 1, 'result': 2, 'broad\\n': 1, 'group': 1, 'Nederlandse': 1, 'improved': 1, 'Pharmaceuticals>': 1, 'less': 1, 'lead,': 1, 'point.\\n': 1, 'balance': 1, 'totalling': 1, '(PSBR)\\n': 1, 'December': 2, 'Province': 1, 'proposal': 3, \"bank's\": 1, '--': 1, 'issue': 3, 'released': 1, 'performance.\\n': 1, 'firm': 2, 'par,': 1, 'shortage\\n': 1, 'Saab-Scania': 1, 'band\\n': 1, \"d'Aide\": 1, 'basis.': 1, 'accompanied': 1, 'profits.\\n': 1, 'that': 1, 'equity\\n': 1, 'nevertheless': 1, 'Shr': 1, 'dlr.\\n': 1, 'Operating': 1, 'revised': 1, 'quarterly': 1, 'domestic': 1, '&lt;BP': 2, 'rival,': 1, 'is\\n': 1, 'comprise': 1, 'sustained': 1, 'American': 1, \"Sony's\": 1, 'substantially': 1, 'confirmed': 1, 'addition,': 1, 'minute': 1, 'supplied': 1, 'made': 1, 'seasonal': 1, 'markets,': 1, 'marketing': 1, 'Banque': 1, 'also': 1, 'halted': 1, 'nil\\n': 1, 'today.\\n': 1, 'crushing': 1, '\"Anything': 1, 'extension': 1, 'factor': 1, 'either': 1, 'said.\\n': 1, 'historically,': 1, 'union\\n': 1, 'Despite': 1, 'England': 2, 'importers': 1, 'brought': 1, 'Pharmaceutical': 2, 'treasury': 1, 'Defence': 1, 'Dilson)': 1, 'Germany.\\n': 1, 'board': 2, 'through': 1, 'plummet': 1, 'Minority': 1, 'potential': 1, 'Corp>': 2, 'change': 2, 'depreciation': 1, 'announcement.\\n': 1, 'hands': 1, 'quarter': 2, 'well': 1, 'on': 4, 'balances': 1, 'Ecu': 2, 'an\\n': 1, 'U.K.': 1, 'units\\n': 1, 'expansion': 3, 'Telephone': 1, 'Intal': 1, 'indicators': 1, 'ditch': 1, 'straight\\n': 1, 'day': 1, 'supplies': 1, 'Seaforth\\n': 1, 'spokesman': 2, \"Ltd's\": 1, 'hours,': 1, 'metalworkers': 1, 'market.': 1, 'Labour.': 1, 'why': 1, 'pay': 3, 'The': 4, 'BP': 1, 'pound': 2, 'underwritten': 1, 'sales': 1, 'midday': 1, 'operations\\n': 1, 'negotiate': 1, 'REUTER...\\n': 1, 'Coffee': 1, 'both': 1, 'quiet': 2, 'it': 5, 'floor': 1, 'offer': 1, 'Thatcher,': 1, 'Paris': 1, 'selling': 2, 'figures,\\n': 1, 'estimated': 1, 'Plc>': 1, 'exercised.': 1, 'took': 1, 'Ltd>': 3, 'losses': 1, 'end': 2, 'then.': 1, 'quotas': 2, \"Plc's\": 1, 'private': 1, 'Securities': 1, 'interests': 1, 'assets': 1, 'warned': 1, 'jobs': 1, 'weak,': 1, 'expand': 1, 'Intral,': 1, 'mainly': 1, 'poll,': 1, 'decline': 1, 'Organization': 2, 'capitalises': 1, 'cars': 1, 'upward': 1, 'IG': 1, 'debit,': 1, 'dull': 1, 'terms': 1, 'Beecham': 1, 'workforce': 1, 'meeting': 2, 'screens.\\n': 1, 'lag': 1, 'up\\n': 1, 'subdued\\n': 1, 'compares': 1, 'wholesale': 1, 'Interest': 2, 'September': 1, 'Domestic': 1, 'biggest': 1, 'countries': 1, 'today': 2, 'speculate': 1, 'des\\n': 1, 'after': 1, 'public': 1, 'sight': 1, 'NV': 1, 'Unterturkheim': 1, 'upset': 1, 'bond\\n': 1, 'afternoon,': 1, 'income': 1, 'talks,': 1, 'manning': 1, 'reawakened': 1, 'producers,': 1, 'approved': 1, 'surprise': 1, 'one-for-one': 1, 'upturn': 1, 'future,': 1, 'coffee': 2, 'unless': 1, 'term.': 1}]\n",
    "dv = DictVectorizer(sparse=False)\n",
    "X = dv.fit_transform(data)\n",
    "Y = np.array([1, 0])\n",
    "\n",
    "print(X)"
   ]
  },
  {
   "cell_type": "code",
   "execution_count": 28,
   "metadata": {},
   "outputs": [
    {
     "data": {
      "text/plain": [
       "MultinomialNB(alpha=1.0, class_prior=None, fit_prior=True)"
      ]
     },
     "execution_count": 28,
     "metadata": {},
     "output_type": "execute_result"
    }
   ],
   "source": [
    "from sklearn.naive_bayes import MultinomialNB\n",
    "\n",
    "mnb = MultinomialNB()\n",
    "mnb.fit(X, Y)\n",
    "MultinomialNB(alpha=1.0, class_prior=None, fit_prior=True)"
   ]
  },
  {
   "cell_type": "code",
   "execution_count": 32,
   "metadata": {},
   "outputs": [
    {
     "ename": "ValueError",
     "evalue": "shapes (2,1889) and (1901,2) not aligned: 1889 (dim 1) != 1901 (dim 0)",
     "output_type": "error",
     "traceback": [
      "\u001b[1;31m---------------------------------------------------------------------------\u001b[0m",
      "\u001b[1;31mValueError\u001b[0m                                Traceback (most recent call last)",
      "\u001b[1;32m<ipython-input-32-286e699fe1ec>\u001b[0m in \u001b[0;36m<module>\u001b[1;34m()\u001b[0m\n\u001b[0;32m      5\u001b[0m \u001b[1;33m\u001b[0m\u001b[0m\n\u001b[0;32m      6\u001b[0m \u001b[1;33m\u001b[0m\u001b[0m\n\u001b[1;32m----> 7\u001b[1;33m \u001b[0mmnb\u001b[0m\u001b[1;33m.\u001b[0m\u001b[0mpredict\u001b[0m\u001b[1;33m(\u001b[0m\u001b[0mdv\u001b[0m\u001b[1;33m.\u001b[0m\u001b[0mfit_transform\u001b[0m\u001b[1;33m(\u001b[0m\u001b[0mtest_data\u001b[0m\u001b[1;33m)\u001b[0m\u001b[1;33m)\u001b[0m\u001b[1;33m\u001b[0m\u001b[0m\n\u001b[0m",
      "\u001b[1;32m~\\Anaconda3\\lib\\site-packages\\sklearn\\naive_bayes.py\u001b[0m in \u001b[0;36mpredict\u001b[1;34m(self, X)\u001b[0m\n\u001b[0;32m     64\u001b[0m             \u001b[0mPredicted\u001b[0m \u001b[0mtarget\u001b[0m \u001b[0mvalues\u001b[0m \u001b[1;32mfor\u001b[0m \u001b[0mX\u001b[0m\u001b[1;33m\u001b[0m\u001b[0m\n\u001b[0;32m     65\u001b[0m         \"\"\"\n\u001b[1;32m---> 66\u001b[1;33m         \u001b[0mjll\u001b[0m \u001b[1;33m=\u001b[0m \u001b[0mself\u001b[0m\u001b[1;33m.\u001b[0m\u001b[0m_joint_log_likelihood\u001b[0m\u001b[1;33m(\u001b[0m\u001b[0mX\u001b[0m\u001b[1;33m)\u001b[0m\u001b[1;33m\u001b[0m\u001b[0m\n\u001b[0m\u001b[0;32m     67\u001b[0m         \u001b[1;32mreturn\u001b[0m \u001b[0mself\u001b[0m\u001b[1;33m.\u001b[0m\u001b[0mclasses_\u001b[0m\u001b[1;33m[\u001b[0m\u001b[0mnp\u001b[0m\u001b[1;33m.\u001b[0m\u001b[0margmax\u001b[0m\u001b[1;33m(\u001b[0m\u001b[0mjll\u001b[0m\u001b[1;33m,\u001b[0m \u001b[0maxis\u001b[0m\u001b[1;33m=\u001b[0m\u001b[1;36m1\u001b[0m\u001b[1;33m)\u001b[0m\u001b[1;33m]\u001b[0m\u001b[1;33m\u001b[0m\u001b[0m\n\u001b[0;32m     68\u001b[0m \u001b[1;33m\u001b[0m\u001b[0m\n",
      "\u001b[1;32m~\\Anaconda3\\lib\\site-packages\\sklearn\\naive_bayes.py\u001b[0m in \u001b[0;36m_joint_log_likelihood\u001b[1;34m(self, X)\u001b[0m\n\u001b[0;32m    723\u001b[0m \u001b[1;33m\u001b[0m\u001b[0m\n\u001b[0;32m    724\u001b[0m         \u001b[0mX\u001b[0m \u001b[1;33m=\u001b[0m \u001b[0mcheck_array\u001b[0m\u001b[1;33m(\u001b[0m\u001b[0mX\u001b[0m\u001b[1;33m,\u001b[0m \u001b[0maccept_sparse\u001b[0m\u001b[1;33m=\u001b[0m\u001b[1;34m'csr'\u001b[0m\u001b[1;33m)\u001b[0m\u001b[1;33m\u001b[0m\u001b[0m\n\u001b[1;32m--> 725\u001b[1;33m         return (safe_sparse_dot(X, self.feature_log_prob_.T) +\n\u001b[0m\u001b[0;32m    726\u001b[0m                 self.class_log_prior_)\n\u001b[0;32m    727\u001b[0m \u001b[1;33m\u001b[0m\u001b[0m\n",
      "\u001b[1;32m~\\Anaconda3\\lib\\site-packages\\sklearn\\utils\\extmath.py\u001b[0m in \u001b[0;36msafe_sparse_dot\u001b[1;34m(a, b, dense_output)\u001b[0m\n\u001b[0;32m    138\u001b[0m         \u001b[1;32mreturn\u001b[0m \u001b[0mret\u001b[0m\u001b[1;33m\u001b[0m\u001b[0m\n\u001b[0;32m    139\u001b[0m     \u001b[1;32melse\u001b[0m\u001b[1;33m:\u001b[0m\u001b[1;33m\u001b[0m\u001b[0m\n\u001b[1;32m--> 140\u001b[1;33m         \u001b[1;32mreturn\u001b[0m \u001b[0mnp\u001b[0m\u001b[1;33m.\u001b[0m\u001b[0mdot\u001b[0m\u001b[1;33m(\u001b[0m\u001b[0ma\u001b[0m\u001b[1;33m,\u001b[0m \u001b[0mb\u001b[0m\u001b[1;33m)\u001b[0m\u001b[1;33m\u001b[0m\u001b[0m\n\u001b[0m\u001b[0;32m    141\u001b[0m \u001b[1;33m\u001b[0m\u001b[0m\n\u001b[0;32m    142\u001b[0m \u001b[1;33m\u001b[0m\u001b[0m\n",
      "\u001b[1;31mValueError\u001b[0m: shapes (2,1889) and (1901,2) not aligned: 1889 (dim 1) != 1901 (dim 0)"
     ]
    }
   ],
   "source": [
    "test_data = data = [{'': 0, 'unit': 1, 'program,': 1, 'into\\n': 1, 'couples': 1, 'biggest\\n': 1, 'further.\\n': 1, 'positions\\n': 1, 'died,': 1, 'USDA': 1, 'flow': 1, 'assuming': 1, 'basis.\\n': 1, 'John': 1, 'priced': 1, 'center,': 1, 'amendment,': 1, 'receivers': 1, 'distribution': 1, 'distributed\\n': 1, 'equipment\\n': 1, 'non-refundable': 1, 'country': 1, 'feels': 1, 'act.\\n': 1, 'adjusted\\n': 1, 'KMW.': 1, 'Tuscarawas': 1, 'Cie\\n': 1, 'obvious': 1, 'Administration': 1, 'wherever': 1, 'Group': 1, 'Final': 1, 'Hydro': 1, 'conference,': 1, 'Coffee\\n': 1, 'redesign\\n': 1, 'inventories': 1, 'one.\\n': 1, 'expense,\"': 1, 'unit-holders': 1, '&lt;Sterling': 1, 'prospects,\"\\n': 1, 'option,\\n': 1, 'completion': 1, 'extended': 1, 'fluids': 1, 'rise.': 1, 'AMC': 1, 'reduction,': 1, 'stock.\\n': 1, 'According': 1, 'top': 1, 'transaction\\n': 1, 'travelers.\\n': 1, 'jet': 1, 'reporter': 1, 'drug': 1, 'by,': 1, 'Cray': 1, 'Donald\\n': 1, 'Soviet': 1, 'franchises': 1, 'experience\"': 1, \"shareholders'\": 1, 'chain': 1, 'offerings': 1, 'London': 1, 'free-standing': 1, \"plant's\": 1, 'spreadsheet': 1, 'highs': 1, 'downtown': 1, 'showed.\\n': 1, 'hotels\\n': 1, '(stock)': 1, 'role': 1, \"Bell's\": 1, 'alleged': 1, 'cannot': 1, 'Borden': 1, 'Photon': 1, 'consent': 1, 'homes': 1, 'annual': 1, 'workstation': 1, 'three-way\\n': 1, 'rose\\n': 1, 'helicopter': 1, 'Logic': 1, 'Wezniak': 1, 'America,': 1, 'Tunisia': 1, 'begin': 1, 'Quantum': 1, 'unreasonable.\\n': 1, 'block': 1, 'industry.\\n': 1, 'wanted': 1, 'Movement': 1, 'followed': 1, 'Public\\n': 1, 'substantial': 1, '\"I': 1, 'audit.': 1, 'arbitrageurs.\\n': 1, 'Great': 1, 'documents': 1, 'arm,': 1, 'decade,': 1, 'staff\\n': 1, 'Lyon,': 1, 'property\\n': 1, 'Corporate': 1, 'regional\\n': 1, 'reached': 1, 'affect': 1, 'undisclosed\\n': 1, 'and/or': 1, 'row': 1, 'recommend': 1, 'cubic': 1, 'bit': 1, 'ordered\\n': 1, 'foreign': 1, 'manufactured': 1, 'ended': 1, 'limited': 1, 'side.': 1, 'weeks': 1, 'Pitney': 1, 'creditor': 1, 'Commission': 1, 'littered': 1, 'Company,': 1, 'promptly': 1, 'reservations': 1, 'decontamination': 1, 'medical': 1, 'Alberto\\n': 1, 'establishment': 1, 'Chernobyl': 1, 'predict': 1, '&lt;Yugo': 1, 'struck': 1, 'made\\n': 1, 'magazine.\\n': 1, 'primarily': 1, 'lenders': 1, 'inch': 1, 'spent': 1, 'saw': 1, 'agent,': 1, 'Textiles': 1, 'us': 1, 'Charge\\n': 1, '\"Pork': 1, 'explain': 1, 'few': 1, 'cars.\\n': 1, 'Nova': 1, 'protocols,': 1, 'Marks.\\n': 1, 'succeeding': 1, 'procedures\\n': 1, 'grade': 1, 'November\\n': 1, 'retain': 1, 'Portland,': 1, 'Clarke,': 1, 'Japanese-owned\\n': 1, 'April': 1, 'Buyers': 1, 'batteries.\\n': 1, 'master\\n': 1, 'Airlines,': 1, 'Excel': 1, 'using': 1, 'networked': 1, 'far.\\n': 1, 'per': 1, 'level': 1, 'Cos.': 1, 'engineering': 1, 'volumes': 1, 'quarter.\\n': 1, 'Friday,\\n': 1, 'Additionally,': 1, 'Sterling,': 1, 'became': 1, 'Conference': 1, 'establish': 2, 'besides': 1, 'Gold': 1, 'appliances': 1, 'finished': 1, 'summer.\\n': 1, 'amendment': 2, 'contained': 1, 'software': 1, 'postpone': 1, 'Edison': 1, 'not': 1, 'Hammer': 1, 'buster': 1, 'Costa': 1, 'for': 2, 'explosive\\n': 1, 'Sweden.\\n': 1, \"Builders'\": 1, 'banks\\n': 1, 'TWA.': 1, 'Reform': 1, 'eight-year\\n': 1, 'cautioned': 1, 'assumptions,': 1, 'Portland': 2, 'money': 1, 'quarter,': 1, 'entities,': 1, 'sponsored': 1, 'stressed': 1, 'operation.': 1, 'single-shift': 1, 'Corporation.\\n': 1, 'extensive\\n': 1, 'Housing': 1, 'retrieval.\\n': 1, 'ministers': 1, 'its': 1, 'furnace': 1, 'restaurants.\\n': 1, 'leading\\n': 1, 'body.\\n': 1, 'centralization': 1, 'copper': 1, 'consultant,': 1, 'compel': 1, 'stretching': 1, 'design,': 1, 'ending': 1, 'Qtrly': 1, 'Dothan,': 1, 'flights.\\n': 1, 'premium': 1, 'goodwill': 1, 'Units.\\n': 1, 'credit.\\n': 1, 'building': 1, 'such\\n': 1, 'adding,': 1, 'settlement,': 1, 'deficit.\\n': 1, 'change\\n': 1, 'clearly': 1, 'models,': 1, 'secret': 1, '\"It\\'s': 1, 'exceptional\\n': 1, 'march': 1, 'consultant': 2, 'Munger': 1, 'stock': 2, '&lt;PHAB': 1, 'liquidation\\n': 1, 'bottom': 1, 'recommended': 1, 'smoke': 1, 'non-electrical': 1, 'pruning': 1, 'application': 1, 'amount\\n': 1, 'shaking-out': 1, '&lt;REX>': 1, \"state's\": 1, 'stiff': 1, 'temporary\\n': 1, 'Harry': 1, 'Solid': 1, 'Cement\\n': 1, 'Savings': 1, 'secondary': 1, 'computer.\\n': 1, 'dim,': 1, 'retrieval': 2, 'board.\\n': 1, 'revise': 1, 'Con': 2, 'disclosed.\\n': 1, 'USAir,': 1, 'Bankruptcy\\n': 1, 'disclosed,': 1, 'Lambert.\\n': 1, 'Alabama,': 1, 'environments': 1, 'above-mentioned': 1, 'ideas': 1, 'suit.\\n': 1, 'percent': 1, \"that's\\n\": 1, 'proposals,': 1, 'is': 1, 'Little': 1, 'circumstances.\\n': 1, 'permitting': 1, 'failed': 1, 'Deliveries': 1, 'first\\n': 1, '&lt;APCI>,\\n': 1, 'hours': 1, 'revenues.': 1, 'conversion\\n': 1, 'Uvalde,\\n': 1, 'clients.\\n': 1, 'amount.\\n': 1, 'Holders': 1, 'publisher': 1, 'space,': 1, 'non-voting': 1, 'approval,': 1, 'excited': 1, 'mid-day.\\n': 1, 'Northwest\\n': 1, 'reopen': 1, 'memories': 1, 'zero\\n': 1, 'Pope': 1, 'within': 1, 'stayed': 1, 'Albert': 2, 'problem.\"\\n': 1, 'Citicorp': 1, 'Suzanne': 1, 'New': 1, 'A\\n': 1, 'planes.': 1, 'campaign': 1, 'Allis-Chalmers': 1, 'Bonny\\n': 1, 'After\\n': 1, 'Hostetler': 1, 'who': 1, '\"TWA\\'s': 1, 'head\\n': 1, 'Italian': 1, 'Ariz.,': 1, '&lt;Morrison': 1, 'Master': 1, 'their': 1, 'proceed\\n': 1, 'Intermedics-Intraocular\\n': 1, 'voted': 1, 'Comdata.\\n': 1, 'regulates': 1, 'up,\"': 1, 'market,\"': 1, 'committeed': 1, 'capacity.\\n': 1, 'coffee\\n': 1, 'neutral.\\n': 1, 'Monday\\n': 1, 'asynchronous': 1, 'accept': 1, 'Ted': 1, 'elect\\n': 1, 'world': 1, 'municipalities': 1, 'dividend\\n': 1, 'issues': 1, 'qualified': 1, \"Loral's\": 1, 'banking,\"': 1, '(exporters)': 1, 'Commerce\\n': 1, 'bad': 1, 'Machines,': 1, 'credits': 1, 'Seaman': 1, \"Hutton's\": 1, 'agents': 1, 'Allis-Chalmers,': 1, 'primary': 1, 'Equipment': 1, 'D-Mich,': 1, 'December.': 1, 'countries\\n': 1, 'J.': 1, 'Brannam,\\n': 1, 'eager': 1, 'functionally': 1, 'incentive': 1, 'predicted.\\n': 1, 'continuing': 1, 'That\\n': 1, 'charges\\n': 1, 'decree.\"\\n': 1, 'information': 1, 'arrangements.': 1, 'controller': 1, 'Wallison,': 1, 'opportunities': 1, 'B.': 1, 'routes,': 1, 'concept': 1, 'advertised': 1, 'three-tranche': 1, 'appearance': 1, 'any\\n': 1, 'possibility': 1, 'hotel': 2, \"Pantera's\": 1, 'despite': 1, 'Pan': 2, 'procedures': 2, 'Aero': 1, 'explained.': 1, 'Nugent': 1, 'exhibition.\\n': 1, 'midwest': 1, 'improvement\\n': 1, 'offence': 1, 'Services.': 1, 'driving': 1, 'welding,\\n': 1, 'evaluating': 1, 'scale\\n': 1, 'subsidiaries': 1, 'Institute': 1, 'testimony': 1, 'hearing': 1, 'support': 1, 'Syracuse': 1, 'so.\\n': 1, 'IN': 1, 'topped': 1, 'correction': 1, 'firestorm': 1, 'flyers': 1, 'merchandise': 1, 'where': 2, 'Sandstone': 1, 'AAA.\\n': 1, 'intermediaries,\"\\n': 1, 'high-density': 1, 'stripper\\n': 1, 'Greco': 1, 'license': 1, 'drafting-plotter': 1, 'Economics\\n': 1, 'Gramm-Rudman).\\n': 1, 'bread': 1, 'largest\\n': 1, 'fail': 2, \"Union's\": 1, \"Lear's\\n\": 1, 'tested': 1, 'Wheat': 1, 'advanced,\"': 1, 'estimate': 1, 'serve': 1, 'Proxmire,': 1, 'entities': 2, 'wrote': 1, 'those': 1, 'representatives': 1, 'expired.\\n': 1, 'pre-split': 1, '(now)\\n': 1, 'debated': 1, 'two-for-one': 1, 'Sims': 1, 'business-to-business\\n': 1, 'work': 2, 'tour.\\n': 1, 'Both': 1, 'men': 1, 'Technologies\\n': 1, 'Pan\\n': 1, 'Commission,': 1, 'analysts\\n': 1, 'Analytichem,': 1, 'Europe.\\n': 1, 'leaded': 1, 'Estate\\n': 1, 'corporation.\\n': 1, \"Reed's\": 1, 'Air': 2, 'switch': 1, 'August': 1, 'liabilities.\\n': 1, 'sales.': 1, 'handle': 1, 'Loral': 2, 'sharply': 1, 'forth...': 1, 'pending': 1, 'Indonesia,': 1, 'chemical': 1, 'AVX': 1, 'Thomas': 1, 'overcome': 1, 'library': 1, 'refunds\\n': 1, 'upgraded': 1, 'instruments.\\n': 1, 'Camaro': 1, 'these\\n': 1, 'generated': 1, 'mortgage\\n': 1, 'estimates': 1, 'Dilson': 1, 'Stephens>': 1, 'threatened': 1, 'diagnostics': 1, 'Gulf,': 1, 'estimates\\n': 1, 'field': 1, 'offices,': 1, 'short': 1, 'Mart': 1, 'receiver': 2, 'Tour': 1, 'pressures': 1, 'hefty': 1, 'customer': 1, 'process': 1, 'McLean': 1, 'format': 1, 'bill': 1, 'joints': 1, 'slipped': 1, 'Hilton': 1, 'Space\\n': 1, 'Lifetime': 1, '\"This': 1, 'pace.\\n': 1, 'update': 1, 'Pacific': 1, 'certain': 1, 'widespread,': 1, 'gigabytes.\\n': 1, 'unsolicited': 1, 'worsened,\\n': 1, 'start\\n': 1, 'criteria': 1, 'breather': 1, 'looking': 1, 'did': 1, 'costs': 1, 'suitor': 1, 'substance,': 1, 'burning': 1, 'customized': 1, 'mn': 1, 'printed': 1, 'elaborate.\\n': 1, 'official,': 1, 'deleterious': 1, 'eleventh': 1, 'warrants.': 1, 'cost,': 1, 'credit': 4, 'guild': 1, 'sedans': 1, 'HCC': 1, 'coverage\\n': 1, 'mid-July.': 1, 'investigating': 1, 'Caribbean': 1, 'exchanged': 1, 'Deputy': 1, 'increases': 1, 'developing': 1, 'so-called': 1, 'AID': 1, 'stood': 1, 'Maryland': 1, 'swaps': 1, 'continues\\n': 1, 'existing': 1, 'Semiconductor\\n': 1, 'troubled\\n': 1, 'March,': 1, 'abeyance\\n': 1, 'frequently': 1, 'desktop': 1, 'News': 1, 'common.': 1, 'chip\\n': 1, 'they\\n': 1, 'Internal': 1, 'noise': 1, 'Facility.\\n': 1, 'Sensors': 1, 'largely': 1, 'machines,': 1, 'Pension': 1, 'Sept': 1, 'accumulating': 1, 'Fertility': 1, 'corporations\\n': 1, 'cases': 1, 'cofounder\\n': 1, 'billion.\\n': 1, 'diminished\\n': 1, 'assets.\\n': 1, 'bid.\\n': 1, 'requirement.\\n': 1, 'pointed': 1, 'relative': 1, 'Pit,\"': 1, 'anticipated,': 1, 'needed': 1, 'air-moving': 1, 'lending.\\n': 1, 'message\"': 1, \"year's\": 1, 'newly': 1, 'mergers': 1, 'expressed\\n': 1, 'securities': 1, 'maintaining\\n': 1, 'case-by-case': 1, 'positive\\n': 1, 'development': 1, 'presence': 1, 'surpassing': 1, 'carryforwards\\n': 1, 'Parliament,': 1, 'Funding': 1, 'voluntary': 1, '&lt;UPJ>,': 1, 'cities': 1, \"Peabody's\": 1, 'Larry': 1, 'Within': 1, 'who,': 1, 'compressor': 1, 'return.\\n': 1, 'Hugh': 1, 'Harvey': 1, 'reduces': 1, \"TRW's\": 1, 'cartridges.\\n': 1, 'concerning': 1, 'Paris-based': 1, 'reflected': 1, 'Qtly': 1, 'leverage': 1, 'broad': 1, 'arrangements\\n': 1, 'Using': 1, 'Intermedics': 2, 'specimens.': 1, 'finance': 1, 'discontinue': 1, 'suggested': 1, 'Center,': 1, 'feet\\n': 1, 'Dan': 1, 'did\\n': 1, 'Ltd>,': 1, 'audiences:': 1, 'rules\\n': 1, 'sees\\n': 1, 'seven': 1, 'coming': 1, '&lt;Qume': 1, 'them,\"': 1, 'reinstate': 1, 'trillion\\n': 1, 'turning': 1, 'effect\\n': 1, 'owns\\n': 1, 'R.': 1, '\"choice\"': 1, \"South's\\n\": 1, 'differences': 1, 'owning': 1, 'Medical': 1, 'parital': 1, 'Supermarkets': 1, 'improved\\n': 1, 'financed': 1, 'union,\\n': 1, 'ago.\\n': 1, 'Shop,': 1, 'staff': 2, 'impacted': 1, 'acted': 1, 'Baker\\n': 1, 'loans': 1, 'noncitrus': 1, 'swaps,': 1, 'highly\\n': 1, 'Mabon': 1, 'settlement\\n': 1, 'commodities.': 1, 'Horman': 1, 'indemnify': 1, 'Shelf': 1, 'branch': 1, 'president': 1, 'executed': 1, 'broader': 1, 'aircraft': 1, 'divisions': 1, 'Grate': 1, 'rates': 1, \"Digital's\": 1, 'approvals.\"': 1, 'path': 1, 'trained': 1, 'dividend.\\n': 1, 'try': 1, 'equally-owned\\n': 1, 'formation': 1, 'Conrad\\n': 1, 'Merrill\\n': 1, 'truck': 1, 'firms,': 1, '\"Companies': 1, 'Nine.\\n': 1, 'Mark': 2, 'quarter\\n': 1, 'throat': 1, 'yet': 1, 'offer,\"': 1, 'These': 1, 'period.': 1, 'Rexnord': 1, 'There': 1, 'KUWAIT': 1, 'none': 1, 'Drilling': 1, 'filing,': 1, 'auction': 1, 'None': 1, 'dlrs.': 1, 'problem.\\n': 1, 'Custom': 1, 'adopting': 1, 'stores\\n': 1, 'East/Africa': 1, 'extended\\n': 1, 'inclusion': 1, 'behalf': 1, '(the': 1, 'addition': 1, 'flat': 1, 'Writers': 1, 'litigation.\\n': 1, 'pages': 1, 'System': 1, 'Discount': 1, 'nothing': 1, 'agency': 1, 'misalignment': 1, \"CIA's\": 1, 'slump': 1, 'fixed': 1, 'business.\\n': 1, 'Statistics': 1, 'satellite': 1, 'Marks.': 2, 'prior,': 1, 'elimination': 1, 'our': 1, 'view': 1, 'Forum,': 1, 'Riverside,': 1, 'consistently': 1, 'demands': 1, 'quarters': 1, \"PNM's\": 1, 'BBB\\n': 1, 'sharp': 2, 'pushed': 1, '&lt;CCB>': 1, 'serious.': 1, 'Switzerland': 1, 'Reynolds': 1, 'alternative': 1, 'conceivably': 1, 'sometimes,': 1, 'respective': 1, 'Norfolk,': 1, 'Kistler': 1, '&lt;Rosewood': 1, 'wishing': 1, \"Cannon's\": 1, 'features.\\n': 1, 'Cabinet': 1, 'transfers': 1, 'Qtlry': 1, 'another': 1, 'announcements.': 1, \"Goodyear's\": 1, 'air': 3, 'Industry': 1, 'Chester,': 1, 'Intermediate': 1, 'Justice': 1, 'Builders\\n': 1, 'Nigeria,\\n': 1, '\"I\\'m\\n': 1, 'Corp.': 1, 'proposal.\\n': 1, 'co-managers': 1, 'pursue': 1, 'drain\\n': 1, 'Benefit': 1, 'Ed': 2, 'Wright': 1, 'Needham': 1, 'Systems': 1, 'particular,': 1, 'Bearing': 1, 'Savin': 2, 'processing,': 1, 'range.\\n': 1, 'mln': 1, 'May': 1, 'limited\\n': 1, 'year\\n': 1, 'survey': 1, 'Reuters.\\n': 1, \"subsidiary's\\n\": 1, 'project,': 1, 'integrated': 1, 'Mine': 1, 'marginal': 1, 'issue,\"': 1, 'modifications': 1, 'ensure': 1, 'qtr': 1, 'deterioration': 1, 'meeting.\\n': 1, 'Inc.': 1, 'Divisioin.\\n': 1, 'target\\n': 1, '\"The': 1, 'Arab': 1, 'New\\n': 1, 'additional': 1, 'alloys': 1, 'Forecasts': 1, 'soybeans,': 1, 'show.\\n': 1, 'refused\\n': 1, 'MCA': 1, 'maintain': 2, 'reducing': 1, 'Authority': 1, 'Cars': 1, 'sexually': 1, 'grows.': 1, 'permit\\n': 1, '&lt;IMI>': 1, 'staff.\\n': 1, 'arranged': 1, 'goods,': 1, '&lt;GP>.\\n': 1, 'SP': 1, \"holder's\\n\": 1, 'fined': 1, 'lie': 1, 'enormously': 1, 'applying': 1, 'depend': 1, 'Bonus': 1, 'committee,\\n': 1, \"Chesebrough-Pond's\": 1, 'upon': 1, 'unleaded': 1, 'note': 1, 'build': 2, 'obligation.\\n': 1, '&lt;WLA>': 1, 'Hallmark': 1, 'Horizons': 1, 'go\\n': 1, 'utility': 1, 'Airbus': 1, 'here.': 1, 'Sells': 1, 'noting': 1, '&lt;Cypress': 1, 'Sorghum': 1, 'cause\\n': 1, 'Telegraph\\n': 1, 'feldspar\\n': 1, 'announcements': 2, 'attraction': 1, 'inedible': 1, 'eventually': 1, 'involvement.': 1, 'Zorinsky': 1, 'Aircraft': 1, 'widely': 1, 'grades,': 1, 'lbs.\\n': 1, 'dominant': 1, 'AB': 1, 'nearby': 1, 'Southern\\n': 1, 'GEMICO': 1, 'Kay': 1, 'ratio,': 1, 'urgent': 1, \"Goldsmith's\": 1, 'enterprise': 1, '(CIA),': 1, 'exchanges,': 1, 'refinery': 1, 'legal\\n': 1, 'Pantries': 1, 'distribution\\n': 1, 'proposal,': 1, '\"middle\\n': 1, 'quickly.\\n': 1, 'cents\\n': 1, 'prospects.\\n': 1, '\"with': 1, 'Greene': 1, 'are\\n': 1, 'Andrew': 1, 'three.\\n': 1, 'bond': 1, 'storage\\n': 1, 'accounting\\n': 1, 'delegations': 1, 'off': 6, 'May.\\n': 1, 'in,': 1, 'on-line': 1, 'Pennzoil,': 1, 'presently': 1, 'operation,': 1, 'samples': 1, 'then': 1, 'pricing': 1, 'liabilities': 2, 'planes\\n': 1, 'stock\\n': 1, 'postponement': 1, 'leases': 1, 'printer,': 1, 'spirited': 1, 'list.\"\\n': 1, 'deficit': 2, 'plate': 1, 'bpd.\\n': 1, 'sharing': 1, 'tower.\\n': 1, 'NYMEX,': 1, 'banking,\\n': 1, 'certificates.\\n': 1, 'resulting': 1, 'officers': 1, 'Jack': 1, 'associated': 1, 'reeacquisition': 1, 'segments': 1, 'Ada': 1, \"leader's\": 1, 'Pa.\\n': 1, 'letter': 1, 'assignments': 1, 'creating': 1, 'CHevrolet': 1, 'Cashways': 1, 'underway.\\n': 1, 'Chester\\n': 1, 'cash,': 1, 'portfolio': 1, 'beds': 1, '\"AMR': 1, 'owuld': 1, 'video': 1, 'Nusource': 1, 'bankruptcy.\\n': 1, 'Mitchel': 1, 'held': 1, 'direction': 1, 'accepted': 1, 'feature': 2, 'wages,': 1, 'told': 1, 'later': 1, 'BB-plus.': 1, 'February,\\n': 1, 'notes.': 1, 'Koba\\n': 1, 'structure': 1, 'produced': 1, 'silicon': 1, 'plants': 1, 'listened': 1}\n",
    "                    , {'': 0, 'positions.': 1, 'Although': 1, 'stg\\n': 1, 'maturity': 1, 'especially': 1, 'priced': 1, '\"You': 1, 'but': 1, 'basis\\n': 1, 'expected': 1, 'liable': 1, 'oil-producing': 1, 'profit.\\n': 1, 'shortage': 1, 'would': 1, 'Exchange.': 1, 'country': 1, 'morning,': 1, 'started': 1, 'increased\\n': 1, 'beginning': 1, 'be': 2, 'parts': 1, 'Final': 1, 'bank\\n': 1, 'marks': 1, 'Payment': 1, 'comparable\\n': 1, 'Co.': 1, 'Pig': 1, 'buying.\\n': 1, 'face': 1, 'prices,': 1, 'aiming': 1, 'French': 1, 'of': 1, 'Fees': 1, 'Oilseed': 1, 'space': 1, 'lenient': 1, 'Liftings': 1, 'quotas,': 1, 'London': 1, 'December,': 1, 'manager': 1, 'showed.\\n': 1, 'Geoffrey': 1, 'Government': 1, 'annual': 1, 'Britian': 1, 'particular': 1, 'could': 1, 'treatment': 1, 'Earlier,': 1, 'average': 1, 'improvements': 1, 'products': 1, 'visible': 1, 'Chamberlain.': 1, 'matures': 1, 'substantial': 1, 'declined': 1, 'Act,\\n': 1, 'we': 1, 'conference': 1, 'tranche': 1, 'oil-consuming': 1, 'this\\n': 1, 'Japan': 1, 'Feed': 1, 'Royal': 1, 'may': 1, 'affect': 1, 'acquisition': 1, 'early': 1, 'have\\n': 1, 'circumstances': 1, 'foreign': 1, 'ended': 1, 'limited': 1, 'creditor': 1, 'companies,': 1, 'Markets\\n': 1, 'Scotia': 1, 'called\\n': 1, 'fading': 1, 'market,': 1, 'taken': 1, 'imports.\\n': 1, 'trading.\\n': 1, 'Michael': 1, 'magazine.\\n': 1, 'eased\\n': 1, 'primarily': 1, 'Tokyo\\n': 1, 'saw': 1, 'agent,': 1, \"bank's\\n\": 1, \"December's\": 1, 'three': 1, '\"I\\'d': 1, 'program.\\n': 1, 'Nova': 1, 'acceptable': 1, 'Energy\\n': 1, 'servant': 1, 'America': 1, 'April': 1, 'level': 1, 'per': 1, 'situation': 1, 'volumes': 1, \"Bank's\": 1, 'became': 1, 'summer.\\n': 1, 'maximum': 1, 'flawed,': 1, 'not': 1, 'stocks.\\n': 1, 'for': 2, 'Britain': 1, 'plus': 1, 'banks\\n': 1, 'sources': 1, 'date.\\n': 1, 'present.\\n': 1, 'cautioned': 1, 'money': 1, 'up': 1, 'entities,': 1, 'quarter,': 1, 'issued': 1, 'stressed': 1, 'barrel.\\n': 1, 'including': 1, 'Inc': 1, 'its': 1, 'dlrs': 1, 'Exchequer': 1, 'businesses,': 1, 'currency': 1, 'second': 1, 'callable\\n': 1, 'Tokyo,': 1, 'Reuter\\n': 1, 'meet': 1, 'partly-paid\\n': 1, 'Nomura\\n': 1, 'exhausted': 1, 'House': 1, 'parent': 1, 'exceptional\\n': 1, 'future': 1, 'stock': 2, 'billions': 1, 'compiled': 1, 'first': 1, 'Daiwa': 1, '\"negative': 1, 'higher': 1, 'value.\\n': 1, 'Authority,': 1, 'Prices': 1, 'book': 1, 'economic': 1, 'margins': 1, 'Price': 2, 'figures': 1, 'CSO': 1, 'representing': 1, 'pre-tax\\n': 1, 'individual': 1, 'tap': 1, 'proposals,': 1, 'is': 2, 'However,': 1, 'March\\n': 1, 'handle.': 1, 'sold\\n': 1, 'first\\n': 1, 'volume': 2, 'institutions': 1, 'March': 2, 'recognised': 1, 'Kleinwort,\\n': 1, 'dealers\\n': 1, 'approximately': 1, 'at\\n': 1, 'bills\\n': 1, 'Investment': 1, 'traded\\n': 1, 'February': 1, 'year,': 1, '(CSO)': 1, 'profits,': 1, 'removed\\n': 1, 'within': 1, 'underlying': 1, 'capital.\\n': 1, 'replaces': 1, 'post': 1, 'given': 1, 'Citicorp': 1, 'per\\n': 1, 'mln,': 1, 'After\\n': 1, 'regulatory': 1, 'following': 1, 'who': 1, 'ceiling\\n': 1, 'purchased': 1, 'assistance': 1, 'be\\n': 1, 'time,\"': 1, 'basis': 2, 'response': 1, \"Unilever's\": 1, 'just\\n': 1, \"department's\": 1, 'their': 1, 'Office': 1, 'drop': 1, 'bonds': 1, 'least': 1, 'Friday.\\n': 1, 'accept': 2, 'department': 2, 'one-sixth': 1, 'barrel': 2, 'behind': 1, 'issues': 1, 'along': 1, 'month': 1, 'pigmeat': 1, 'largest': 1, 'underwriter': 1, 'invisible': 1, 'shortly.': 1, 'credits': 1, 'Cargill': 1, 'although': 1, 'eurobond': 1, 'Nomura': 2, 'late': 1, 'professionals': 1, 'surplus': 1, 'household': 1, 'institute': 1, 'Euromoney': 1, 'continuing': 1, 'information': 1, 'published': 1, 'any\\n': 1, 'They': 1, 'But\\n': 1, 'Sea': 1, 'AG': 1, 'despite': 1, \"issue's\": 1, 'important': 1, 'offence': 1, 'Europe,\\n': 1, 'evaluating': 1, 'major': 1, 'line': 1, 'subsidiaries': 1, 'retail': 1, 'mill': 1, 'granted': 1, 'should': 1, 'In\\n': 1, 'this': 2, 'Parliament': 1, 'showed': 2, 'strengthen\\n': 1, 'or': 1, 'home': 1, 'option': 1, 'throughout': 1, 'on,': 1, 'basis,\\n': 1, 'remain': 1, 'year': 2, 'will\\n': 1, 'he': 1, 'Guarantee': 1, 'solve': 1, 'Yesterday,': 1, 'dlrs.\\n': 1, 'Financial': 1, 'those': 1, 'reporters': 1, 'representatives': 1, 'Association': 1, 'debate,': 1, 'low': 1, 'total\\n': 1, 'look': 1, 'now,': 1, 'West': 1, 'vessels': 1, 'list.\\n': 1, 'sharply': 1, 'registered': 1, 'recovered': 1, 'imprudent': 1, 'base.\"\\n': 1, 'rose': 1, 'preliminary': 1, 'houses.': 1, 'negative': 1, 'generated': 1, 'sentiment': 1, 'recipients.\\n': 1, 'pct\\n': 1, 'these': 1, 'Gulf,': 1, 'nation.\\n': 1, 'performance\\n': 1, 'between\\n': 1, 'index.\\n': 1, 'demand': 1, 'process': 1, 'Canadian': 1, 'banks.\\n': 1, 'bill': 3, 'growth\\n': 1, 'changes.': 1, 'if': 1, 'certain': 1, 'underwriting\\n': 1, 'U.K./Continent': 1, 'mislead': 1, 'qustion': 1, 'Up': 1, 'yen,': 1, 'reported\\n': 1, 'dollars': 1, 'next': 1, 'Chamberlain': 2, 'last': 1, 'dropped': 1, 'affected,': 1, 'again': 1, 'mid-afternoon': 1, 'Stephens': 1, 'coupon': 1, 'Credits': 1, 'footing\\n': 1, 'double': 1, 'settlement': 1, 'credit': 3, 'chairman': 1, 'disposals': 1, 'give': 2, 'dropped\\n': 1, 'permament': 1, 'manpower': 1, 'existing': 1, 'partly-paid': 2, 'conferred\\n': 1, 'European': 1, 'purchases': 1, 'named': 1, 'they\\n': 1, 'largely': 1, 'realise': 1, 'pct': 2, 'concerned...,\"': 1, 'aimed': 1, 'during': 1, 'included': 1, 'since': 1, 'former': 1, 'billion.\\n': 1, 'date': 2, 'enhanced': 1, 'Sears': 1, 'anticipated': 1, 'commitment': 1, 'participants': 1, 'OPEC': 1, 'Brent-grade': 1, 'assessment': 1, \"year's\": 1, 'however,': 1, 'help': 1, 'years.\\n': 1, 'deals': 1, 'securities': 1, 'bulk': 1, 'case-by-case': 1, 'presence': 1, 'Funding': 1, 'Parliament,': 1, 'recent': 1, 'competition,': 1, 'matures\\n': 1, 'gilts': 1, 'sold': 2, 'Brent': 2, 'price': 3, 'reflected': 1, 'seven\\n': 1, 'Forty-five': 1, 'finance': 1, 'Mitsui': 1, 'corner': 1, 'were': 1, 'sole': 1, 'rules\\n': 1, 'seven': 2, 'contracts': 1, 'his': 1, 'risk\\n': 1, 'Electric': 1, 'considerable': 1, 'invisibles': 1, 'securities.': 1, 'revisions': 1, 'no': 3, 'options,': 1, 'transactions,\\n': 1, 'offers': 1, 'forecast': 1, 'demand\\n': 1, 'Grain': 1, 'growth': 2, 'warrant\\n': 1, 'share\\n': 1, 'decision': 1, 'western': 1, 'rates': 1, \"market's\\n\": 1, 'legislation': 1, 'purchase': 3, 'try': 1, 'quarter\\n': 1, 'introduced': 1, 'convern,': 1, 'five': 1, 'supervisory': 1, 'These': 1, 'limits': 1, 'third\\n': 1, 'business\\n': 1, 'by\\n': 1, 'month\\n': 1, 'dlrs.': 2, 'decided': 1, 'it\\n': 1, 'inclusion': 1, 'terms\\n': 1, 'Luxembourg.': 1, 'Central\\n': 1, 'flat': 1, 'pays': 1, 'agency': 1, 'lost': 1, 'fixed': 1, 'projections': 1, 'quarters': 1, 'Both\\n': 1, 'facility': 1, 'capital': 2, 'sharp': 2, 'deserted\\n': 1, 'space.\\n': 1, 'will': 2, 'Samuel': 1, 'Billion': 1, 'traded': 2, 'Stock': 1, 'liquidity,': 1, 'controls,': 1, 'earlier': 1, 'areas\\n': 1, 'deposit': 1, 'insurance\\n': 1, 'manage.\\n': 1, 'another': 1, 'against\\n': 1, 'equities': 1, 'Exposures': 1, 'appointed': 1, 'constituents': 1, 'Howard\\n': 1, 'two': 1, 'strategy,': 1, 'Building\\n': 1, 'least\\n': 1, 'drain\\n': 1, 'Markets': 2, 'order': 1, 'better': 1, 'Societies': 1, 'mln': 2, 'divergence': 1, 'living': 1, 'allow': 1, 'loan': 1, 'completed,': 1, \"subsidiary's\\n\": 1, 'Monday': 1, 'eastern': 1, 'concerns': 1, 'experience': 1, 'sort': 1, 'ensure': 1, 'already': 1, 'ECGD': 1, 'activity': 1, '\"The': 1, 'bills': 2, 'strategic\\n': 1, 'show.\\n': 1, 'dwt': 1, 'maintain': 1, 'upwardly': 1, 'Ltd\\n': 1, 'recent\\n': 1, 'according': 1, 'dipped': 1, 'similar\\n': 1, 'banker': 1, 'dilution.\\n': 1, 'seek': 1, 'term': 2, 'said\\n': 1, \"sterling's\": 1, 'depend': 1, 'a': 29, \"Chesebrough-Pond's\": 1, 'upon': 1, 'between': 2, 'commercial': 1, 'dividend,': 1, 'carcases': 1, 'exercise': 1, 'noting': 1, '\"should': 1, 'Home': 1, 'Howard': 2, 'in': 14, 'regulators': 1, '-': 1, 'totalled': 1, 'trading': 2, 'Luxembourg.\\n': 1, 'AB': 1, 'altogether,': 1, 'criminal': 1, 'legal\\n': 1, 'abolish': 1, 'State': 1, 'requirements.\\n': 1, 'dlr\\n': 1, 'changes': 2, 'are\\n': 1, 'take': 2, 'bond': 2, 'trough': 1, 'barley': 1, 'operation,': 1, 'than': 1, 'Seaforth': 1, 'then': 1, 'pricing': 1, 'third': 2, 'considering': 1, 'official': 1, 'context': 1, 'comprising': 1, 'deficit': 1, 'drilling,': 1, 'combined': 1, 'bolster': 1, 'Jack': 1, 'outset.\\n': 1, 'overseas': 1, 'scheduled': 1, 'received': 1, 'an': 5, 'completing': 1, 'feature': 1, 'you': 1, 'told': 1, 'later': 1, 'authorities': 1, 'tender': 1, 'requests': 1, 'Nine': 1, 'underwriters\\n': 1, 'total': 3, 'there': 1, 'has': 1, 'governments': 1, 'November.\\n': 1, 'general': 1, 'inform': 2, 'maturing\\n': 1, 'move': 1, 'making': 1, 'placing': 1, 'services': 1, 'enabled': 1, 'consolidate\\n': 1, 'oil': 3, 'thus': 1, \"bankers'\": 1, 'governments\\n': 1, 'Morgan': 1, 'mln.\\n': 1, 'British': 1, 'provided': 1, 'Life\\n': 1, 'still\\n': 1, 'Capital': 1, 'problems': 1, 'stripping': 1, 'bond)': 1, 'news': 1, 'market': 3, 'shipbroker': 1, 'earnings': 1, 'equal': 1, 'out': 2, 'selling\\n': 1, 'only': 1, 'combined,': 1, 'beyond': 1, 'involved': 1, 'core': 1, 'For': 2, 'band': 1, 'risk': 2, 'hoped': 1, 'inter-market-maker': 1, 'billion': 3, 'same': 1, 'futures': 1, 'because': 1, 'acquisitions': 1, 'month.': 1, 'before,': 1, 'report.\\n': 1, 'at': 2, 'Bank': 2, 'what': 1, 'particularly': 1, 'export': 1, 'adopting\\n': 1, 'trades': 1, 're-emergence': 1, 'from\\n': 1, 'review': 1, 'billion.': 2, 'payment': 1, 'daily': 1, 'intervention': 1, 'trading\\n': 1, 'say': 1, 'crop\\n': 1, 'been\\n': 1, '(GAFTA)\\n': 1, 'powers': 1, 'rise': 1, 'large': 3, 'Wood': 1, 'previously.\\n': 1, 'off-floor': 1, 'whether': 1, 'outright\\n': 1, 'normally': 1, 'sterling': 2, 'non-callable': 1, 'themselves': 1, 'Corp': 1, 'and\\n': 1, 'reported': 2, 'out\\n': 1, 'Preliminary': 1, 'Ltd,': 1, 'hedging': 1, 'loss,': 1, 'reduction': 1, 'Services': 1, 'inflation\"': 1, \"company's\\n\": 1, 'initial': 1, 'down': 1, 'feed': 1, 'regarded': 1, 'suffered': 1, 'which\\n': 1, 'Rank': 1, 'underwriting': 2, 'dollar': 2, 'result': 1, 'group': 1, 'constraints': 1, 'bought\\n': 1, 'broadly': 1, 'non-oil': 1, 'require': 2, 'balance': 1, 'lower': 1, 'December': 3, 'condition': 1, 'proposal': 2, \"bank's\": 2, 'issue': 4, 'released': 1, 'placed': 1, 'report': 5, 'strength.\\n': 1, 'firm': 1, 'shortage\\n': 1, 'structure,': 1, 'Saab-Scania': 1, 'that': 1, 'available.\\n': 1, 'revised': 1, 'drain': 2, 'domestic': 1, 'is\\n': 1, 'comprise': 1, 'Deutsche': 1, 'noted,': 1, 'only\\n': 1, 'addition,': 1, 'can': 1, 'deposit-takers': 1, 'unlikely': 1, 'offered,': 1, 'made': 1, 'Westminster': 1, 'takers': 1, 'Household': 1, 'markets,': 1, 'such': 1, 'committee': 1, 'also': 1, 'today.\\n': 1, 'crushing': 1, 'objectives,': 1, 'has\\n': 1, 'Conservative': 1, '&lt;SEHL.L>': 1, 'compete': 1, 'determined': 1, 'said.\\n': 1, 'disposal': 2, 'electronic': 1, 'writing': 1, 'Bill': 2, 'sustain': 1, 'designated': 1, 'providing': 1, 'A/S': 1, 'England': 1, '\"from': 1, 'treasury': 1, 'tonnes,': 1, 'production.\\n': 1, 'collateral': 1, 'Chamberlain\\n': 1, 'Plc\\n': 1, 'about\\n': 1, 'change': 3, 'Germany': 1, 'supervision': 1, 'quarter': 4, 'hands': 1, 'dear': 1, 'well': 1, 'sum': 2, 'binding': 1, 'Matushita': 1, 'on': 5, 'whole': 1, 'balances': 1, 'an\\n': 1, 'U.K.': 2, 'reported.\\n': 1, 'expansion': 1, 'go': 3, 'refused': 1, 'day': 1, 'supplies': 1, 'spokesman': 1, \"Ltd's\": 1, 'tonnes': 2, 'activities.\\n': 1, 'margarine': 1, 'pay': 3, 'The': 3, 'thing,\"\\n': 1, 'weakened': 1, 'Arranger': 1, 'sales': 1, 'both': 1, 'it': 3, 'floor': 1, 'offer': 3, 'selling': 2, 'estimated': 1, 'far\\n': 1, 'proposals': 2, 'said,': 1, 'end': 2, 'HWWA': 1, 'prudently.\\n': 1, \"Plc's\": 1, 'underwrite.': 1, 'top\\n': 1, 'private': 1, 'brings': 1, 'jobs': 1, 'committee\\n': 1, 'wheat': 1, '(government': 1, 'outside': 1, 'skill\\n': 1, 'Angus': 1, 'mainly': 1, 'decline': 2, 'conservative,\"': 1, 'amount': 1, 'even': 1, 'Gulf': 2, 'terms': 2, 'eligible\\n': 1, 'operates': 1, 'workforce': 1, 'meeting': 1, 'compares': 1, \"NV's\": 1, 'trading.': 2, 'spending': 1, 'tons': 1, 'countries': 1, 'gives': 1, 'today': 2, 'FT-SE': 1, 'after': 1, 'public': 1, 'assumed': 1, 'NV': 2, 'mln.': 2, 'updating': 1, 'morning.': 1, 'operating\\n': 1, 'thing': 2, 'element.\\n': 1, 'potato': 1, 'equity': 1, 'by': 2, 'euromarkets.\\n': 1, 'dlr': 5, 'options': 2, \"market's\": 2, 'unconditional': 1, 'recurrence': 1, 'right': 1, 'Guarantee\\n': 1, 'Australian': 1, 'Mutual': 1, 'come': 1, 'over': 2, 'own': 1, '\"We\\'re': 1, 'paying': 1, 'issuers': 1, 'barley.\\n': 1, 'London.': 1, 'Minister': 1, 'criticism': 1, 'tighten': 1, 'rate': 2, 'paid': 1, 'tax\\n': 1, 'Trade': 1, 'how': 2, 'companies': 2, 'said.': 2, 'institutions.\\n': 1, 'want': 1, 'civil': 1, 'concentrating\\n': 1, 'much': 1, \"company's\": 2, 'Organisation': 1, 'reluctant': 1, 'other': 1, \"Exchange's\": 1, 'of\\n': 1, 'joint-lead': 1, 'supply': 1, 'concerned': 2, 'figure': 2, 'Dealers': 1, 'U.S.\\n': 1, 'the': 7, 'half': 1, 'standstill\\n': 1, 'should\\n': 1, 'been': 2, 'available': 2, 'He': 1, 'very': 1, 'capital,': 1, 'target': 1, 'noted.\\n': 1, 'probably': 1, 'submitted': 1, 'On': 1, 'each': 1, 'consultative\\n': 1, 'January.\\n': 1, 'issuing\\n': 1, 'turned': 1, 'levels.\\n': 1, 'Stauffer': 1, 'revolving': 1, 'offers.\\n': 1, 'Commons': 1, 'year,\\n': 1, 'It': 1, 'Hamburgische': 1, 'Swiss': 1, 'effects': 1, 'abroad': 1, 'financial': 1, 'Much': 1, 'tied': 1, 'listing': 1, 'announced': 1, '(FOTRA)': 1, 'increase': 2, 'stg.\\n': 1, 'subsidiary': 2, '\"Large': 1, 'debt': 1, 'changed,': 1, 'year.\\n': 1, 'Scotia.': 1, 'Department': 1, 'services.\\n': 1, 'in\\n': 1, 'on\\n': 1, 'put': 1, 'notes': 1, 'make': 1, 'seemed': 1, 'shortfall': 1, 'underwriter,': 1, 'below': 1, 'which': 2, 'No': 5, 'potato\\n': 1, 'extent,\"': 1, 'activities': 2, 'fourth': 1, 'exchequer': 1, 'attempt': 1, 'sheet': 1, 'exports': 1, 'But': 2, 'inflation': 2, 'Bill,': 1, 'almost': 1, 'pct.\\n': 1, 'company': 3, 'place': 2, 'ability': 1, 'permission': 1, 'about': 2, 'circulation': 1, 'aggressively': 1, 'encouraged': 1, 'Chemical': 1, 'gains': 1, 'repayment': 1, 'before': 2, 'Mortgage': 1, 'sectors': 1, 'planned': 1, 'dealing': 1, 'Inc\\n': 1, 'industries': 1, 'affecting': 1, 'guilders': 1, 'trade': 4, 'initially.\\n': 1, 'retained': 1, 'week': 1, 'July': 1, 'managing': 1}]\n",
    "mnb.predict(dv.fit_transform(test_data))"
   ]
  },
  {
   "cell_type": "code",
   "execution_count": null,
   "metadata": {
    "collapsed": true
   },
   "outputs": [],
   "source": []
  },
  {
   "cell_type": "code",
   "execution_count": null,
   "metadata": {
    "collapsed": true
   },
   "outputs": [],
   "source": []
  }
 ],
 "metadata": {
  "kernelspec": {
   "display_name": "Python 3",
   "language": "python",
   "name": "python3"
  },
  "language_info": {
   "codemirror_mode": {
    "name": "ipython",
    "version": 3
   },
   "file_extension": ".py",
   "mimetype": "text/x-python",
   "name": "python",
   "nbconvert_exporter": "python",
   "pygments_lexer": "ipython3",
   "version": "3.6.5"
  }
 },
 "nbformat": 4,
 "nbformat_minor": 2
}
